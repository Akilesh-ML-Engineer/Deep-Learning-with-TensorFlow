{
 "cells": [
  {
   "cell_type": "code",
   "execution_count": 1,
   "id": "5c5be4f9-5f38-49fc-bbd0-cea2eefab6d0",
   "metadata": {},
   "outputs": [
    {
     "name": "stdout",
     "output_type": "stream",
     "text": [
      "/home/asa/anaconda3/envs/TensorFlow-Development/bin/python\n"
     ]
    }
   ],
   "source": [
    "!which python"
   ]
  },
  {
   "cell_type": "code",
   "execution_count": 1,
   "id": "98486540-5962-4897-851c-6e088a6da8a3",
   "metadata": {},
   "outputs": [
    {
     "name": "stderr",
     "output_type": "stream",
     "text": [
      "2024-08-08 16:53:03.572440: W tensorflow/compiler/tf2tensorrt/utils/py_utils.cc:38] TF-TRT Warning: Could not find TensorRT\n"
     ]
    }
   ],
   "source": [
    "# Importing the packages\n",
    "import tensorflow as tf"
   ]
  },
  {
   "cell_type": "code",
   "execution_count": 47,
   "id": "48884f91-55bc-42c7-8c23-bc07271573ff",
   "metadata": {},
   "outputs": [
    {
     "name": "stdout",
     "output_type": "stream",
     "text": [
      "2.16.1\n"
     ]
    }
   ],
   "source": [
    "# Checking the tensorflow version\n",
    "print(tf.__version__)"
   ]
  },
  {
   "cell_type": "code",
   "execution_count": 59,
   "id": "79839ad3-da7d-4c20-bc30-e4aec952b6ef",
   "metadata": {},
   "outputs": [
    {
     "data": {
      "text/plain": [
       "<tf.Tensor: shape=(), dtype=int32, numpy=7>"
      ]
     },
     "execution_count": 59,
     "metadata": {},
     "output_type": "execute_result"
    }
   ],
   "source": [
    "# Constants\n",
    "c1 = tf.constant(7)\n",
    "c1"
   ]
  },
  {
   "cell_type": "code",
   "execution_count": 60,
   "id": "4816d512-7375-4068-8e24-ab7689e135dd",
   "metadata": {},
   "outputs": [
    {
     "data": {
      "text/plain": [
       "0"
      ]
     },
     "execution_count": 60,
     "metadata": {},
     "output_type": "execute_result"
    }
   ],
   "source": [
    "# Check the dim of a tensor\n",
    "c1.ndim"
   ]
  },
  {
   "cell_type": "code",
   "execution_count": 61,
   "id": "9cf297c6-3f1b-477c-b473-3d84ee12b94b",
   "metadata": {},
   "outputs": [
    {
     "name": "stdout",
     "output_type": "stream",
     "text": [
      "tf.Tensor([1 2 3], shape=(3,), dtype=int32)\n",
      "1\n"
     ]
    }
   ],
   "source": [
    "# Creating the vector\n",
    "v1 = tf.constant([1,2,3])\n",
    "print(v1)\n",
    "print(v1.ndim)"
   ]
  },
  {
   "cell_type": "code",
   "execution_count": 62,
   "id": "a23d8754-b58d-450b-9665-0fa0f8b3b0d4",
   "metadata": {},
   "outputs": [
    {
     "name": "stdout",
     "output_type": "stream",
     "text": [
      "tf.Tensor(\n",
      "[[1 2]\n",
      " [3 4]], shape=(2, 2), dtype=int32)\n",
      "2\n"
     ]
    }
   ],
   "source": [
    "# Creating the matrix\n",
    "m1 = tf.constant([[1,2],\n",
    "                  [3,4]])\n",
    "print(m1)\n",
    "print(m1.ndim)"
   ]
  },
  {
   "cell_type": "code",
   "execution_count": 63,
   "id": "24097c83-bc40-4163-bfa1-4d7e07ba8d89",
   "metadata": {},
   "outputs": [
    {
     "name": "stdout",
     "output_type": "stream",
     "text": [
      "<dtype: 'int32'>\n",
      "<dtype: 'int64'>\n"
     ]
    }
   ],
   "source": [
    "# Specifying the dtype for the tensor\n",
    "print(c1.dtype)\n",
    "c2=tf.constant(3, dtype=tf.int64)\n",
    "print(c2.dtype)"
   ]
  },
  {
   "cell_type": "code",
   "execution_count": 64,
   "id": "f050c2a3-dd05-4a04-9968-53aedb8b14dd",
   "metadata": {},
   "outputs": [
    {
     "data": {
      "text/plain": [
       "<tf.Tensor: shape=(2, 2), dtype=float64, numpy=\n",
       "array([[ 3.,  2.],\n",
       "       [ 3., 42.]])>"
      ]
     },
     "execution_count": 64,
     "metadata": {},
     "output_type": "execute_result"
    }
   ],
   "source": [
    "m2 = tf.constant([[3.,2.],\n",
    "                  [3.,42.]], dtype=tf.float64)\n",
    "m2\n",
    "# Does the tf stores the value of the tensors as a numpy array"
   ]
  },
  {
   "cell_type": "code",
   "execution_count": 65,
   "id": "165cd6e7-8197-4729-b24e-8078aea9096a",
   "metadata": {},
   "outputs": [
    {
     "data": {
      "text/plain": [
       "<tf.Tensor: shape=(3, 2, 2), dtype=int32, numpy=\n",
       "array([[[1, 2],\n",
       "        [3, 4]],\n",
       "\n",
       "       [[5, 6],\n",
       "        [7, 8]],\n",
       "\n",
       "       [[9, 0],\n",
       "        [1, 2]]], dtype=int32)>"
      ]
     },
     "execution_count": 65,
     "metadata": {},
     "output_type": "execute_result"
    }
   ],
   "source": [
    "# Tensors with the higher dimension\n",
    "t1 = tf.constant([[[1,2],[3,4]],[[5,6],[7,8]],[[9,0],[1,2]]])\n",
    "t1"
   ]
  },
  {
   "cell_type": "code",
   "execution_count": 2,
   "id": "42e9671a-1b4a-4ce8-a514-5a90b8a40e7c",
   "metadata": {},
   "outputs": [
    {
     "data": {
      "text/plain": [
       "<tf.Variable 'Variable:0' shape=(2,) dtype=int32, numpy=array([2, 4], dtype=int32)>"
      ]
     },
     "execution_count": 2,
     "metadata": {},
     "output_type": "execute_result"
    }
   ],
   "source": [
    "# Creating tensors with variables\n",
    "changable_tensor = tf.Variable([2,4])\n",
    "unchangable_tensor = \n",
    "v1"
   ]
  },
  {
   "cell_type": "code",
   "execution_count": null,
   "id": "00f94f9c-780a-450c-ad5f-2b37c1f27acd",
   "metadata": {},
   "outputs": [],
   "source": []
  }
 ],
 "metadata": {
  "kernelspec": {
   "display_name": "Python 3 (ipykernel)",
   "language": "python",
   "name": "python3"
  },
  "language_info": {
   "codemirror_mode": {
    "name": "ipython",
    "version": 3
   },
   "file_extension": ".py",
   "mimetype": "text/x-python",
   "name": "python",
   "nbconvert_exporter": "python",
   "pygments_lexer": "ipython3",
   "version": "3.10.14"
  }
 },
 "nbformat": 4,
 "nbformat_minor": 5
}
