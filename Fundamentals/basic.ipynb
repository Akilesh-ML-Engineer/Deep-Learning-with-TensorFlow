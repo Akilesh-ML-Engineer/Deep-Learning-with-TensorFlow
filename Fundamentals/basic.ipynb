{
 "cells": [
  {
   "cell_type": "code",
   "execution_count": 1,
   "id": "5c5be4f9-5f38-49fc-bbd0-cea2eefab6d0",
   "metadata": {},
   "outputs": [
    {
     "name": "stdout",
     "output_type": "stream",
     "text": [
      "/home/asa/miniconda3/envs/TensorFlow-Development/bin/python\n"
     ]
    }
   ],
   "source": [
    "!which python"
   ]
  },
  {
   "cell_type": "code",
   "execution_count": 2,
   "id": "98486540-5962-4897-851c-6e088a6da8a3",
   "metadata": {},
   "outputs": [
    {
     "name": "stderr",
     "output_type": "stream",
     "text": [
      "2024-08-16 00:04:35.335124: E external/local_xla/xla/stream_executor/cuda/cuda_fft.cc:485] Unable to register cuFFT factory: Attempting to register factory for plugin cuFFT when one has already been registered\n",
      "2024-08-16 00:04:35.344289: E external/local_xla/xla/stream_executor/cuda/cuda_dnn.cc:8454] Unable to register cuDNN factory: Attempting to register factory for plugin cuDNN when one has already been registered\n",
      "2024-08-16 00:04:35.347028: E external/local_xla/xla/stream_executor/cuda/cuda_blas.cc:1452] Unable to register cuBLAS factory: Attempting to register factory for plugin cuBLAS when one has already been registered\n",
      "2024-08-16 00:04:35.847523: W tensorflow/compiler/tf2tensorrt/utils/py_utils.cc:38] TF-TRT Warning: Could not find TensorRT\n"
     ]
    }
   ],
   "source": [
    "# Importing the packages\n",
    "import tensorflow as tf\n",
    "import numpy as np"
   ]
  },
  {
   "cell_type": "code",
   "execution_count": 3,
   "id": "48884f91-55bc-42c7-8c23-bc07271573ff",
   "metadata": {},
   "outputs": [
    {
     "name": "stdout",
     "output_type": "stream",
     "text": [
      "2.17.0\n",
      "WARNING: All log messages before absl::InitializeLog() is called are written to STDERR\n",
      "I0000 00:00:1723746882.348949   23186 cuda_executor.cc:1015] successful NUMA node read from SysFS had negative value (-1), but there must be at least one NUMA node, so returning NUMA node zero. See more at https://github.com/torvalds/linux/blob/v6.0/Documentation/ABI/testing/sysfs-bus-pci#L344-L355\n",
      "I0000 00:00:1723746882.368683   23186 cuda_executor.cc:1015] successful NUMA node read from SysFS had negative value (-1), but there must be at least one NUMA node, so returning NUMA node zero. See more at https://github.com/torvalds/linux/blob/v6.0/Documentation/ABI/testing/sysfs-bus-pci#L344-L355\n",
      "I0000 00:00:1723746882.370164   23186 cuda_executor.cc:1015] successful NUMA node read from SysFS had negative value (-1), but there must be at least one NUMA node, so returning NUMA node zero. See more at https://github.com/torvalds/linux/blob/v6.0/Documentation/ABI/testing/sysfs-bus-pci#L344-L355\n",
      "Num GPUs Available:  1\n"
     ]
    }
   ],
   "source": [
    "# Checking the tensorflow version\n",
    "print(tf.__version__)\n",
    "!python3 -c \"import os; os.environ['TF_CPP_MIN_LOG_LEVEL'] = '3'; import tensorflow as tf; print('Num GPUs Available: ', len(tf.config.list_physical_devices('GPU')))\""
   ]
  },
  {
   "cell_type": "code",
   "execution_count": 59,
   "id": "79839ad3-da7d-4c20-bc30-e4aec952b6ef",
   "metadata": {},
   "outputs": [
    {
     "data": {
      "text/plain": [
       "<tf.Tensor: shape=(), dtype=int32, numpy=7>"
      ]
     },
     "execution_count": 59,
     "metadata": {},
     "output_type": "execute_result"
    }
   ],
   "source": [
    "# Constants\n",
    "c1 = tf.constant(7)\n",
    "c1"
   ]
  },
  {
   "cell_type": "code",
   "execution_count": 60,
   "id": "4816d512-7375-4068-8e24-ab7689e135dd",
   "metadata": {},
   "outputs": [
    {
     "data": {
      "text/plain": [
       "0"
      ]
     },
     "execution_count": 60,
     "metadata": {},
     "output_type": "execute_result"
    }
   ],
   "source": [
    "# Check the dim of a tensor\n",
    "c1.ndim"
   ]
  },
  {
   "cell_type": "code",
   "execution_count": 61,
   "id": "9cf297c6-3f1b-477c-b473-3d84ee12b94b",
   "metadata": {},
   "outputs": [
    {
     "name": "stdout",
     "output_type": "stream",
     "text": [
      "tf.Tensor([1 2 3], shape=(3,), dtype=int32)\n",
      "1\n"
     ]
    }
   ],
   "source": [
    "# Creating the vector\n",
    "v1 = tf.constant([1,2,3])\n",
    "print(v1)\n",
    "print(v1.ndim)"
   ]
  },
  {
   "cell_type": "code",
   "execution_count": 62,
   "id": "a23d8754-b58d-450b-9665-0fa0f8b3b0d4",
   "metadata": {},
   "outputs": [
    {
     "name": "stdout",
     "output_type": "stream",
     "text": [
      "tf.Tensor(\n",
      "[[1 2]\n",
      " [3 4]], shape=(2, 2), dtype=int32)\n",
      "2\n"
     ]
    }
   ],
   "source": [
    "# Creating the matrix\n",
    "m1 = tf.constant([[1,2],\n",
    "                  [3,4]])\n",
    "print(m1)\n",
    "print(m1.ndim)"
   ]
  },
  {
   "cell_type": "code",
   "execution_count": 63,
   "id": "24097c83-bc40-4163-bfa1-4d7e07ba8d89",
   "metadata": {},
   "outputs": [
    {
     "name": "stdout",
     "output_type": "stream",
     "text": [
      "<dtype: 'int32'>\n",
      "<dtype: 'int64'>\n"
     ]
    }
   ],
   "source": [
    "# Specifying the dtype for the tensor\n",
    "print(c1.dtype)\n",
    "c2=tf.constant(3, dtype=tf.int64)\n",
    "print(c2.dtype)"
   ]
  },
  {
   "cell_type": "code",
   "execution_count": 64,
   "id": "f050c2a3-dd05-4a04-9968-53aedb8b14dd",
   "metadata": {},
   "outputs": [
    {
     "data": {
      "text/plain": [
       "<tf.Tensor: shape=(2, 2), dtype=float64, numpy=\n",
       "array([[ 3.,  2.],\n",
       "       [ 3., 42.]])>"
      ]
     },
     "execution_count": 64,
     "metadata": {},
     "output_type": "execute_result"
    }
   ],
   "source": [
    "m2 = tf.constant([[3.,2.],\n",
    "                  [3.,42.]], dtype=tf.float64)\n",
    "m2\n",
    "# Does the tf stores the value of the tensors as a numpy array"
   ]
  },
  {
   "cell_type": "code",
   "execution_count": 65,
   "id": "165cd6e7-8197-4729-b24e-8078aea9096a",
   "metadata": {},
   "outputs": [
    {
     "data": {
      "text/plain": [
       "<tf.Tensor: shape=(3, 2, 2), dtype=int32, numpy=\n",
       "array([[[1, 2],\n",
       "        [3, 4]],\n",
       "\n",
       "       [[5, 6],\n",
       "        [7, 8]],\n",
       "\n",
       "       [[9, 0],\n",
       "        [1, 2]]], dtype=int32)>"
      ]
     },
     "execution_count": 65,
     "metadata": {},
     "output_type": "execute_result"
    }
   ],
   "source": [
    "# Tensors with the higher dimension\n",
    "t1 = tf.constant([[[1,2],[3,4]],[[5,6],[7,8]],[[9,0],[1,2]]])\n",
    "t1"
   ]
  },
  {
   "cell_type": "code",
   "execution_count": 3,
   "id": "42e9671a-1b4a-4ce8-a514-5a90b8a40e7c",
   "metadata": {},
   "outputs": [
    {
     "data": {
      "text/plain": [
       "(<tf.Variable 'Variable:0' shape=(2,) dtype=int32, numpy=array([2, 4], dtype=int32)>,\n",
       " <tf.Tensor: shape=(2,), dtype=int32, numpy=array([2, 4], dtype=int32)>)"
      ]
     },
     "execution_count": 3,
     "metadata": {},
     "output_type": "execute_result"
    }
   ],
   "source": [
    "# Creating tensors with variables\n",
    "changable_tensor = tf.Variable([2,4])\n",
    "unchangable_tensor = tf.constant([2,4])\n",
    "changable_tensor, unchangable_tensor"
   ]
  },
  {
   "cell_type": "code",
   "execution_count": 4,
   "id": "00f94f9c-780a-450c-ad5f-2b37c1f27acd",
   "metadata": {},
   "outputs": [
    {
     "data": {
      "text/plain": [
       "<tf.Variable 'Variable:0' shape=(2, 2) dtype=int32, numpy=\n",
       "array([[2, 3],\n",
       "       [3, 2]], dtype=int32)>"
      ]
     },
     "execution_count": 4,
     "metadata": {},
     "output_type": "execute_result"
    }
   ],
   "source": [
    "v1 = tf.Variable([[2,3],[3,2]])\n",
    "v1"
   ]
  },
  {
   "cell_type": "code",
   "execution_count": 7,
   "id": "76dff972-3238-4274-ab50-6ae88eacc6a7",
   "metadata": {},
   "outputs": [
    {
     "ename": "TypeError",
     "evalue": "'ResourceVariable' object does not support item assignment",
     "output_type": "error",
     "traceback": [
      "\u001b[0;31m---------------------------------------------------------------------------\u001b[0m",
      "\u001b[0;31mTypeError\u001b[0m                                 Traceback (most recent call last)",
      "Cell \u001b[0;32mIn[7], line 2\u001b[0m\n\u001b[1;32m      1\u001b[0m \u001b[38;5;66;03m# Change the element of the changable tensor\u001b[39;00m\n\u001b[0;32m----> 2\u001b[0m \u001b[43mchangable_tensor\u001b[49m\u001b[43m[\u001b[49m\u001b[38;5;241;43m0\u001b[39;49m\u001b[43m]\u001b[49m \u001b[38;5;241m=\u001b[39m \u001b[38;5;241m20\u001b[39m\n\u001b[1;32m      3\u001b[0m changable_tensor\n",
      "\u001b[0;31mTypeError\u001b[0m: 'ResourceVariable' object does not support item assignment"
     ]
    }
   ],
   "source": [
    "# Change the element of the changable tensor\n",
    "changable_tensor[0] = 20\n",
    "changable_tensor"
   ]
  },
  {
   "cell_type": "code",
   "execution_count": 9,
   "id": "29abcc76-00f9-4846-86f5-b664963f1c40",
   "metadata": {},
   "outputs": [
    {
     "data": {
      "text/plain": [
       "<tf.Variable 'Variable:0' shape=(2,) dtype=int32, numpy=array([20,  4], dtype=int32)>"
      ]
     },
     "execution_count": 9,
     "metadata": {},
     "output_type": "execute_result"
    }
   ],
   "source": [
    "# The assignmenrt operator is not overloaded for the assignment operation in the tf.Variable method\n",
    "# We need to use the .assign() method for it\n",
    "changable_tensor[0].assign(20)\n",
    "changable_tensor"
   ]
  },
  {
   "cell_type": "code",
   "execution_count": 12,
   "id": "f12e8115-07b7-4158-bd3b-9401e78dddde",
   "metadata": {},
   "outputs": [
    {
     "data": {
      "text/plain": [
       "<tf.Variable 'Variable:0' shape=(2,) dtype=int32, numpy=array([2, 2], dtype=int32)>"
      ]
     },
     "execution_count": 12,
     "metadata": {},
     "output_type": "execute_result"
    }
   ],
   "source": [
    "changable_tensor.assign([2,2])\n",
    "changable_tensor"
   ]
  },
  {
   "cell_type": "code",
   "execution_count": 17,
   "id": "ad14f2ee-4a65-4a69-aff6-95c5af1ec1e5",
   "metadata": {},
   "outputs": [
    {
     "name": "stderr",
     "output_type": "stream",
     "text": [
      "2024-08-08 17:23:38.103423: W tensorflow/core/framework/op_kernel.cc:1839] OP_REQUIRES failed at strided_slice_op.cc:117 : INVALID_ARGUMENT: slice index 2 of dimension 0 out of bounds.\n",
      "2024-08-08 17:23:38.103446: W tensorflow/core/framework/local_rendezvous.cc:404] Local rendezvous is aborting with status: INVALID_ARGUMENT: slice index 2 of dimension 0 out of bounds.\n"
     ]
    },
    {
     "ename": "InvalidArgumentError",
     "evalue": "{{function_node __wrapped__StridedSlice_device_/job:localhost/replica:0/task:0/device:GPU:0}} slice index 2 of dimension 0 out of bounds. [Op:StridedSlice] name: strided_slice/",
     "output_type": "error",
     "traceback": [
      "\u001b[0;31m---------------------------------------------------------------------------\u001b[0m",
      "\u001b[0;31mInvalidArgumentError\u001b[0m                      Traceback (most recent call last)",
      "Cell \u001b[0;32mIn[17], line 2\u001b[0m\n\u001b[1;32m      1\u001b[0m \u001b[38;5;66;03m# Cannot assign an element out of the index\u001b[39;00m\n\u001b[0;32m----> 2\u001b[0m \u001b[43mchangable_tensor\u001b[49m\u001b[43m[\u001b[49m\u001b[38;5;241;43m2\u001b[39;49m\u001b[43m]\u001b[49m\u001b[38;5;241m.\u001b[39massign(\u001b[38;5;241m30\u001b[39m)\n\u001b[1;32m      3\u001b[0m changable_tensor\n",
      "File \u001b[0;32m~/anaconda3/envs/TensorFlow-Development/lib/python3.10/site-packages/tensorflow/python/ops/tensor_getitem_override.py:311\u001b[0m, in \u001b[0;36m_slice_helper_var\u001b[0;34m(var, slice_spec)\u001b[0m\n\u001b[1;32m    270\u001b[0m \u001b[38;5;28;01mdef\u001b[39;00m \u001b[38;5;21m_slice_helper_var\u001b[39m(var, slice_spec):\n\u001b[1;32m    271\u001b[0m \u001b[38;5;250m  \u001b[39m\u001b[38;5;124;03m\"\"\"Creates a slice helper object given a variable.\u001b[39;00m\n\u001b[1;32m    272\u001b[0m \n\u001b[1;32m    273\u001b[0m \u001b[38;5;124;03m  This allows creating a sub-tensor from part of the current contents\u001b[39;00m\n\u001b[0;32m   (...)\u001b[0m\n\u001b[1;32m    308\u001b[0m \n\u001b[1;32m    309\u001b[0m \u001b[38;5;124;03m  \"\"\"\u001b[39;00m\n\u001b[0;32m--> 311\u001b[0m   \u001b[38;5;28;01mreturn\u001b[39;00m \u001b[43m_slice_helper\u001b[49m\u001b[43m(\u001b[49m\u001b[43mvar\u001b[49m\u001b[38;5;241;43m.\u001b[39;49m\u001b[43mvalue\u001b[49m\u001b[43m(\u001b[49m\u001b[43m)\u001b[49m\u001b[43m,\u001b[49m\u001b[43m \u001b[49m\u001b[43mslice_spec\u001b[49m\u001b[43m,\u001b[49m\u001b[43m \u001b[49m\u001b[43mvar\u001b[49m\u001b[43m)\u001b[49m\n",
      "File \u001b[0;32m~/anaconda3/envs/TensorFlow-Development/lib/python3.10/site-packages/tensorflow/python/util/traceback_utils.py:153\u001b[0m, in \u001b[0;36mfilter_traceback.<locals>.error_handler\u001b[0;34m(*args, **kwargs)\u001b[0m\n\u001b[1;32m    151\u001b[0m \u001b[38;5;28;01mexcept\u001b[39;00m \u001b[38;5;167;01mException\u001b[39;00m \u001b[38;5;28;01mas\u001b[39;00m e:\n\u001b[1;32m    152\u001b[0m   filtered_tb \u001b[38;5;241m=\u001b[39m _process_traceback_frames(e\u001b[38;5;241m.\u001b[39m__traceback__)\n\u001b[0;32m--> 153\u001b[0m   \u001b[38;5;28;01mraise\u001b[39;00m e\u001b[38;5;241m.\u001b[39mwith_traceback(filtered_tb) \u001b[38;5;28;01mfrom\u001b[39;00m \u001b[38;5;28;01mNone\u001b[39;00m\n\u001b[1;32m    154\u001b[0m \u001b[38;5;28;01mfinally\u001b[39;00m:\n\u001b[1;32m    155\u001b[0m   \u001b[38;5;28;01mdel\u001b[39;00m filtered_tb\n",
      "File \u001b[0;32m~/anaconda3/envs/TensorFlow-Development/lib/python3.10/site-packages/tensorflow/python/framework/ops.py:5983\u001b[0m, in \u001b[0;36mraise_from_not_ok_status\u001b[0;34m(e, name)\u001b[0m\n\u001b[1;32m   5981\u001b[0m \u001b[38;5;28;01mdef\u001b[39;00m \u001b[38;5;21mraise_from_not_ok_status\u001b[39m(e, name) \u001b[38;5;241m-\u001b[39m\u001b[38;5;241m>\u001b[39m NoReturn:\n\u001b[1;32m   5982\u001b[0m   e\u001b[38;5;241m.\u001b[39mmessage \u001b[38;5;241m+\u001b[39m\u001b[38;5;241m=\u001b[39m (\u001b[38;5;124m\"\u001b[39m\u001b[38;5;124m name: \u001b[39m\u001b[38;5;124m\"\u001b[39m \u001b[38;5;241m+\u001b[39m \u001b[38;5;28mstr\u001b[39m(name \u001b[38;5;28;01mif\u001b[39;00m name \u001b[38;5;129;01mis\u001b[39;00m \u001b[38;5;129;01mnot\u001b[39;00m \u001b[38;5;28;01mNone\u001b[39;00m \u001b[38;5;28;01melse\u001b[39;00m \u001b[38;5;124m\"\u001b[39m\u001b[38;5;124m\"\u001b[39m))\n\u001b[0;32m-> 5983\u001b[0m   \u001b[38;5;28;01mraise\u001b[39;00m core\u001b[38;5;241m.\u001b[39m_status_to_exception(e) \u001b[38;5;28;01mfrom\u001b[39;00m \u001b[38;5;28;01mNone\u001b[39;00m\n",
      "\u001b[0;31mInvalidArgumentError\u001b[0m: {{function_node __wrapped__StridedSlice_device_/job:localhost/replica:0/task:0/device:GPU:0}} slice index 2 of dimension 0 out of bounds. [Op:StridedSlice] name: strided_slice/"
     ]
    }
   ],
   "source": [
    "# Cannot assign an element out of the index\n",
    "changable_tensor[2].assign(30)\n",
    "changable_tensor"
   ]
  },
  {
   "cell_type": "code",
   "execution_count": 67,
   "id": "aa4ee256-220e-44fd-a74a-39c6849cda5a",
   "metadata": {},
   "outputs": [
    {
     "data": {
      "text/plain": [
       "<tensorflow.python.ops.stateful_random_ops.Generator at 0x7502e766d240>"
      ]
     },
     "execution_count": 67,
     "metadata": {},
     "output_type": "execute_result"
    }
   ],
   "source": [
    "# Creating Random tensors\n",
    "generator = tf.random.Generator.from_seed(42)\n",
    "generator      # set the seed for reproducibility"
   ]
  },
  {
   "cell_type": "code",
   "execution_count": 68,
   "id": "dec4fb7e-e9fb-4bb3-8f3b-13779f5e10b6",
   "metadata": {},
   "outputs": [
    {
     "data": {
      "text/plain": [
       "<tf.Tensor: shape=(3, 2), dtype=float32, numpy=\n",
       "array([[-0.7565803 , -0.06854702],\n",
       "       [ 0.07595026, -1.2573844 ],\n",
       "       [-0.23193765, -1.8107855 ]], dtype=float32)>"
      ]
     },
     "execution_count": 68,
     "metadata": {},
     "output_type": "execute_result"
    }
   ],
   "source": [
    "r1 = generator.normal(shape=(3,2))\n",
    "r1     # outputs the values from normal distribution"
   ]
  },
  {
   "cell_type": "code",
   "execution_count": 77,
   "id": "d765707c-87b4-4b1d-b5a3-8ed570dbcfca",
   "metadata": {},
   "outputs": [
    {
     "data": {
      "text/plain": [
       "<tf.Tensor: shape=(2, 3), dtype=float32, numpy=\n",
       "array([[7.4349947, 6.12593  , 4.978739 ],\n",
       "       [6.9099865, 9.944253 , 9.1576605]], dtype=float32)>"
      ]
     },
     "execution_count": 77,
     "metadata": {},
     "output_type": "execute_result"
    }
   ],
   "source": [
    "r2 = generator.uniform(shape=[2,3], minval=2, maxval=10)\n",
    "r2    # output values from a uniform distribution"
   ]
  },
  {
   "cell_type": "code",
   "execution_count": 81,
   "id": "90fb04bc-b422-47e7-802a-b772f5c71a26",
   "metadata": {},
   "outputs": [
    {
     "data": {
      "text/plain": [
       "(<tf.Tensor: shape=(3, 3), dtype=float32, numpy=\n",
       " array([[-0.29604468, -0.21134208,  0.01063002],\n",
       "        [ 1.5165398 ,  0.2730574 , -0.29925638],\n",
       "        [-0.3652325 ,  0.61883307, -1.0130817 ]], dtype=float32)>,\n",
       " <tf.Tensor: shape=(3, 3), dtype=float32, numpy=\n",
       " array([[-0.29604468, -0.21134208,  0.01063002],\n",
       "        [ 1.5165398 ,  0.2730574 , -0.29925638],\n",
       "        [-0.3652325 ,  0.61883307, -1.0130817 ]], dtype=float32)>,\n",
       " <tf.Tensor: shape=(3, 3), dtype=bool, numpy=\n",
       " array([[ True,  True,  True],\n",
       "        [ True,  True,  True],\n",
       "        [ True,  True,  True]])>)"
      ]
     },
     "execution_count": 81,
     "metadata": {},
     "output_type": "execute_result"
    }
   ],
   "source": [
    "# Checking the reproducibility of the generators\n",
    "g1 = tf.random.Generator.from_seed(10)\n",
    "g2 = tf.random.Generator.from_seed(10)\n",
    "rand1 = g1.normal( shape=(3,3) )\n",
    "rand2 = g2.normal( shape=(3,3) )\n",
    "\n",
    "rand1, rand2, rand1==rand2"
   ]
  },
  {
   "cell_type": "code",
   "execution_count": 83,
   "id": "797da350-86e9-4ca3-bac5-201c1f33674e",
   "metadata": {},
   "outputs": [
    {
     "data": {
      "text/plain": [
       "<tf.Tensor: shape=(99,), dtype=int32, numpy=\n",
       "array([ 1,  2,  3,  4,  5,  6,  7,  8,  9, 10, 11, 12, 13, 14, 15, 16, 17,\n",
       "       18, 19, 20, 21, 22, 23, 24, 25, 26, 27, 28, 29, 30, 31, 32, 33, 34,\n",
       "       35, 36, 37, 38, 39, 40, 41, 42, 43, 44, 45, 46, 47, 48, 49, 50, 51,\n",
       "       52, 53, 54, 55, 56, 57, 58, 59, 60, 61, 62, 63, 64, 65, 66, 67, 68,\n",
       "       69, 70, 71, 72, 73, 74, 75, 76, 77, 78, 79, 80, 81, 82, 83, 84, 85,\n",
       "       86, 87, 88, 89, 90, 91, 92, 93, 94, 95, 96, 97, 98, 99],\n",
       "      dtype=int32)>"
      ]
     },
     "execution_count": 83,
     "metadata": {},
     "output_type": "execute_result"
    }
   ],
   "source": [
    "# Shuffle the order of the elements in the tensor\n",
    "not_shuffle = tf.range(1, 100)\n",
    "not_shuffle"
   ]
  },
  {
   "cell_type": "code",
   "execution_count": 84,
   "id": "25a72d1a-c9d8-417f-a987-5c7184b8d928",
   "metadata": {},
   "outputs": [
    {
     "data": {
      "text/plain": [
       "<tf.Tensor: shape=(99,), dtype=int32, numpy=\n",
       "array([88, 82, 62, 49, 34, 25, 89, 66, 68, 87, 74, 55, 30, 43,  2, 67, 16,\n",
       "       70, 50, 96, 57, 13, 81, 76, 40,  3, 84, 92, 32, 26, 61, 45, 37, 98,\n",
       "       93, 52,  4, 47, 83, 71, 63,  7, 21, 77, 64, 31, 69, 65, 20, 42, 85,\n",
       "       38, 94, 41, 35, 51, 18, 58, 56, 95, 59,  6, 33, 60, 80, 19, 23, 99,\n",
       "       10, 44,  9, 15, 53, 22, 39, 90, 11, 27, 14,  5, 48, 79, 29,  8, 75,\n",
       "       86, 91, 12, 36, 46,  1, 97, 17, 28, 78, 72, 54, 24, 73],\n",
       "      dtype=int32)>"
      ]
     },
     "execution_count": 84,
     "metadata": {},
     "output_type": "execute_result"
    }
   ],
   "source": [
    "shuffle = tf.random.shuffle(not_shuffle)\n",
    "shuffle"
   ]
  },
  {
   "cell_type": "code",
   "execution_count": 28,
   "id": "64a4d1db-044c-4ae4-b0d1-81500d417710",
   "metadata": {},
   "outputs": [
    {
     "data": {
      "text/plain": [
       "<tf.Tensor: shape=(3, 2), dtype=int32, numpy=\n",
       "array([[1, 2],\n",
       "       [3, 4],\n",
       "       [5, 6]], dtype=int32)>"
      ]
     },
     "execution_count": 28,
     "metadata": {},
     "output_type": "execute_result"
    }
   ],
   "source": [
    "# In the 2-D tensor the order of each individual element changes\n",
    "# But the order within the inner tensor remains the same\n",
    "ten_ns = tf.constant([[1,2],[3,4],[5,6]])\n",
    "ten_ns"
   ]
  },
  {
   "cell_type": "code",
   "execution_count": 29,
   "id": "c3b5ebb2-cfcb-4b74-8f83-611f87da25ea",
   "metadata": {},
   "outputs": [
    {
     "data": {
      "text/plain": [
       "<tf.Tensor: shape=(3, 2), dtype=int32, numpy=\n",
       "array([[5, 6],\n",
       "       [3, 4],\n",
       "       [1, 2]], dtype=int32)>"
      ]
     },
     "execution_count": 29,
     "metadata": {},
     "output_type": "execute_result"
    }
   ],
   "source": [
    "ten_s = tf.random.shuffle(ten_ns)\n",
    "ten_s"
   ]
  },
  {
   "cell_type": "code",
   "execution_count": 44,
   "id": "7c97f96f-0744-4535-b2df-b38d26005b60",
   "metadata": {},
   "outputs": [
    {
     "data": {
      "text/plain": [
       "(<tf.Tensor: shape=(19,), dtype=int32, numpy=\n",
       " array([12, 11, 14,  4,  8,  5,  1, 18, 16, 10,  2, 17,  3,  7,  9, 15, 13,\n",
       "         6, 19], dtype=int32)>,\n",
       " <tf.Tensor: shape=(19,), dtype=int32, numpy=\n",
       " array([18,  8,  6, 19, 12, 15, 17,  9, 11,  4, 13, 16, 14,  2,  3,  7,  1,\n",
       "        10,  5], dtype=int32)>)"
      ]
     },
     "execution_count": 44,
     "metadata": {},
     "output_type": "execute_result"
    }
   ],
   "source": [
    "ten_s_seed_1 = tf.random.shuffle(tf.range(1, 20,), seed=10)\n",
    "ten_s_seed_2 = tf.random.shuffle(tf.range(1, 20,), seed=10)\n",
    "ten_s_seed_1, ten_s_seed_2"
   ]
  },
  {
   "cell_type": "code",
   "execution_count": 45,
   "id": "98a25318-8cb4-4609-8acc-bb64daea2101",
   "metadata": {},
   "outputs": [
    {
     "data": {
      "text/plain": [
       "(<tf.Tensor: shape=(19,), dtype=int32, numpy=\n",
       " array([ 7,  5,  9,  4, 14, 10, 13, 19,  2, 12, 18,  1, 11,  8,  3, 15,  6,\n",
       "        16, 17], dtype=int32)>,\n",
       " <tf.Tensor: shape=(19,), dtype=int32, numpy=\n",
       " array([ 4, 11,  6,  5, 12, 10,  3,  1, 13,  8, 16, 15, 19,  7, 14,  2, 18,\n",
       "         9, 17], dtype=int32)>)"
      ]
     },
     "execution_count": 45,
     "metadata": {},
     "output_type": "execute_result"
    }
   ],
   "source": [
    "ten_s_seed_1 = tf.random.shuffle(tf.range(1, 20,), seed=10)\n",
    "ten_s_seed_2 = tf.random.shuffle(tf.range(1, 20,), seed=10)\n",
    "# Reason why we get diff. values is that the second call uses a different operation seed.\n",
    "ten_s_seed_1, ten_s_seed_2"
   ]
  },
  {
   "cell_type": "code",
   "execution_count": 46,
   "id": "d76b0944-a47e-439a-ac0b-41427c46f21d",
   "metadata": {},
   "outputs": [
    {
     "data": {
      "text/plain": [
       "(<tf.Tensor: shape=(19,), dtype=int32, numpy=\n",
       " array([13, 11,  8,  7,  6, 17, 16, 19,  1, 15, 14,  3, 10,  5,  9, 12, 18,\n",
       "         4,  2], dtype=int32)>,\n",
       " <tf.Tensor: shape=(19,), dtype=int32, numpy=\n",
       " array([14,  6,  2,  5,  3, 17, 16,  9,  1, 11, 13,  4, 18, 15, 10, 19,  7,\n",
       "        12,  8], dtype=int32)>)"
      ]
     },
     "execution_count": 46,
     "metadata": {},
     "output_type": "execute_result"
    }
   ],
   "source": [
    "tf.random.set_seed(10)\n",
    "ten_gs_seed_1 = tf.random.shuffle(tf.range(1, 20,), seed=10)\n",
    "ten_gs_seed_2 = tf.random.shuffle(tf.range(1, 20,), seed=10)\n",
    "ten_gs_seed_1, ten_gs_seed_2"
   ]
  },
  {
   "cell_type": "code",
   "execution_count": 48,
   "id": "75b59e0e-c269-466a-bf69-830e9e7b93b5",
   "metadata": {},
   "outputs": [
    {
     "data": {
      "text/plain": [
       "(<tf.Tensor: shape=(19,), dtype=int32, numpy=\n",
       " array([13, 11,  8,  7,  6, 17, 16, 19,  1, 15, 14,  3, 10,  5,  9, 12, 18,\n",
       "         4,  2], dtype=int32)>,\n",
       " <tf.Tensor: shape=(19,), dtype=int32, numpy=\n",
       " array([14,  6,  2,  5,  3, 17, 16,  9,  1, 11, 13,  4, 18, 15, 10, 19,  7,\n",
       "        12,  8], dtype=int32)>)"
      ]
     },
     "execution_count": 48,
     "metadata": {},
     "output_type": "execute_result"
    }
   ],
   "source": [
    "tf.random.set_seed(10)\n",
    "ten_gs_seed_1 = tf.random.shuffle(tf.range(1, 20,), seed=10)\n",
    "ten_gs_seed_2 = tf.random.shuffle(tf.range(1, 20,), seed=10)\n",
    "# Reason why they individually generate the same sequence again when we re-run the code\n",
    "# Is because the the uses the same explicitly set global seed\n",
    "ten_gs_seed_1, ten_gs_seed_2"
   ]
  },
  {
   "cell_type": "code",
   "execution_count": 62,
   "id": "ce1db52c-48e9-418f-85da-55e5dac2cfdb",
   "metadata": {},
   "outputs": [
    {
     "data": {
      "text/plain": [
       "(<tf.Tensor: shape=(10,), dtype=int32, numpy=array([ 5,  4,  6,  7, 10,  3,  9,  8,  1,  2], dtype=int32)>,\n",
       " <tf.Tensor: shape=(10,), dtype=int32, numpy=array([ 1, 10,  5,  7,  3,  6,  4,  2,  8,  9], dtype=int32)>,\n",
       " <tf.Tensor: shape=(10,), dtype=int32, numpy=array([ 2, 10,  8,  1,  6,  7,  9,  5,  4,  3], dtype=int32)>,\n",
       " <tf.Tensor: shape=(10,), dtype=int32, numpy=array([ 1, 10,  5,  7,  3,  6,  4,  2,  8,  9], dtype=int32)>)"
      ]
     },
     "execution_count": 62,
     "metadata": {},
     "output_type": "execute_result"
    }
   ],
   "source": [
    "# Interaction Between Global and Operation-Level Seeds\n",
    "\n",
    "# 1. Neither Global Seed Nor Operation Seed Is Set:\n",
    "tf.random.set_seed(None)\n",
    "ngos = tf.random.shuffle(tf.range(1, 11))\n",
    "\n",
    "# 2. Global Seed Set, But Operation Seed Not Set\n",
    "tf.random.set_seed(10)\n",
    "gsons = tf.random.shuffle(tf.range(1, 11))\n",
    "\n",
    "# 3. Operation Seed Set, But Global Seed Not Set\n",
    "tf.random.set_seed(None)\n",
    "gnsos = tf.random.shuffle(tf.range(1, 11))\n",
    "\n",
    "# 4. Both Global and Operation Seeds Are Set\n",
    "tf.random.set_seed(10)\n",
    "gsos = tf.random.shuffle(tf.range(1, 11))\n",
    "\n",
    "ngos, gsons, gnsos, gsos"
   ]
  },
  {
   "cell_type": "code",
   "execution_count": 63,
   "id": "5511c1b6-c63e-46c3-b756-e8b51ad3406a",
   "metadata": {},
   "outputs": [
    {
     "data": {
      "text/plain": [
       "(<tf.Tensor: shape=(10,), dtype=int32, numpy=array([ 1,  9,  6,  2,  3,  5,  4, 10,  7,  8], dtype=int32)>,\n",
       " <tf.Tensor: shape=(10,), dtype=int32, numpy=array([ 1, 10,  5,  7,  3,  6,  4,  2,  8,  9], dtype=int32)>,\n",
       " <tf.Tensor: shape=(10,), dtype=int32, numpy=array([ 1,  3,  2,  7, 10,  8,  4,  5,  9,  6], dtype=int32)>,\n",
       " <tf.Tensor: shape=(10,), dtype=int32, numpy=array([ 1, 10,  5,  7,  3,  6,  4,  2,  8,  9], dtype=int32)>)"
      ]
     },
     "execution_count": 63,
     "metadata": {},
     "output_type": "execute_result"
    }
   ],
   "source": [
    "# Interaction Between Global and Operation-Level Seeds\n",
    "\n",
    "# 1. Neither Global Seed Nor Operation Seed Is Set:\n",
    "tf.random.set_seed(None)\n",
    "ngos = tf.random.shuffle(tf.range(1, 11))\n",
    "\n",
    "# 2. Global Seed Set, But Operation Seed Not Set\n",
    "tf.random.set_seed(10)\n",
    "gsons = tf.random.shuffle(tf.range(1, 11))\n",
    "\n",
    "# 3. Operation Seed Set, But Global Seed Not Set\n",
    "tf.random.set_seed(None)\n",
    "gnsos = tf.random.shuffle(tf.range(1, 11))\n",
    "\n",
    "# 4. Both Global and Operation Seeds Are Set\n",
    "tf.random.set_seed(10)\n",
    "gsos = tf.random.shuffle(tf.range(1, 11))\n",
    "\n",
    "ngos, gsons, gnsos, gsos"
   ]
  },
  {
   "cell_type": "code",
   "execution_count": 10,
   "id": "98f14b31-e534-45cf-b0de-047ec6e61d71",
   "metadata": {},
   "outputs": [
    {
     "data": {
      "text/plain": [
       "(array([ 1,  2,  3,  4,  5,  6,  7,  8,  9, 10], dtype=int32),\n",
       " <tf.Tensor: shape=(1, 2, 5), dtype=int32, numpy=\n",
       " array([[[ 1,  2,  3,  4,  5],\n",
       "         [ 6,  7,  8,  9, 10]]], dtype=int32)>)"
      ]
     },
     "execution_count": 10,
     "metadata": {},
     "output_type": "execute_result"
    }
   ],
   "source": [
    "# Convert the numpy array into tf tensor\n",
    "na =  np.arange(1,11, dtype=np.int32)\n",
    "# While re-shaping the numpy array the number of element in the numpy array should be\n",
    "# equal to the number of elements in the tf tensors\n",
    "# 1*2*5 = 10 == len(na) = 10\n",
    "ta = tf.constant(na, shape=(1,2,5))\n",
    "na, ta"
   ]
  },
  {
   "cell_type": "code",
   "execution_count": 24,
   "id": "3f7fe49f-2d0f-499e-937d-b979c93fad7d",
   "metadata": {},
   "outputs": [
    {
     "name": "stdout",
     "output_type": "stream",
     "text": [
      "Dimensions (Rank) : 5\n",
      "Shape : (1, 2, 5, 5, 2)\n",
      "Size : 100\n",
      "Size of inner array : 50\n"
     ]
    }
   ],
   "source": [
    "# Getting informations from the tensors\n",
    "tensor = tf.constant(np.arange(1, 101), shape=(1,2,5,5,2))\n",
    "# print(\"Sample tensor : \")\n",
    "# print(tensor)\n",
    "\n",
    "# To check the rank of the tensors\n",
    "print(f\"Dimensions (Rank) : {tensor.ndim}\")\n",
    "\n",
    "# To check shape of the tensors\n",
    "print(f\"Shape : {tensor.shape}\")\n",
    "\n",
    "# To check the size of the tensors\n",
    "print(f\"Size : {tf.size(tensor)}\")\n",
    "print(f\"Size of inner array : {tf.size(tensor[0][0])}\")"
   ]
  },
  {
   "cell_type": "code",
   "execution_count": 25,
   "id": "3bc515e1-1715-43a7-8f39-d69772221c56",
   "metadata": {
    "scrolled": true
   },
   "outputs": [
    {
     "data": {
      "text/plain": [
       "(<tf.Tensor: shape=(5, 5, 2), dtype=int64, numpy=\n",
       " array([[[ 51,  52],\n",
       "         [ 53,  54],\n",
       "         [ 55,  56],\n",
       "         [ 57,  58],\n",
       "         [ 59,  60]],\n",
       " \n",
       "        [[ 61,  62],\n",
       "         [ 63,  64],\n",
       "         [ 65,  66],\n",
       "         [ 67,  68],\n",
       "         [ 69,  70]],\n",
       " \n",
       "        [[ 71,  72],\n",
       "         [ 73,  74],\n",
       "         [ 75,  76],\n",
       "         [ 77,  78],\n",
       "         [ 79,  80]],\n",
       " \n",
       "        [[ 81,  82],\n",
       "         [ 83,  84],\n",
       "         [ 85,  86],\n",
       "         [ 87,  88],\n",
       "         [ 89,  90]],\n",
       " \n",
       "        [[ 91,  92],\n",
       "         [ 93,  94],\n",
       "         [ 95,  96],\n",
       "         [ 97,  98],\n",
       "         [ 99, 100]]])>,\n",
       " <tf.Tensor: shape=(5, 5, 2), dtype=int64, numpy=\n",
       " array([[[ 51,  52],\n",
       "         [ 53,  54],\n",
       "         [ 55,  56],\n",
       "         [ 57,  58],\n",
       "         [ 59,  60]],\n",
       " \n",
       "        [[ 61,  62],\n",
       "         [ 63,  64],\n",
       "         [ 65,  66],\n",
       "         [ 67,  68],\n",
       "         [ 69,  70]],\n",
       " \n",
       "        [[ 71,  72],\n",
       "         [ 73,  74],\n",
       "         [ 75,  76],\n",
       "         [ 77,  78],\n",
       "         [ 79,  80]],\n",
       " \n",
       "        [[ 81,  82],\n",
       "         [ 83,  84],\n",
       "         [ 85,  86],\n",
       "         [ 87,  88],\n",
       "         [ 89,  90]],\n",
       " \n",
       "        [[ 91,  92],\n",
       "         [ 93,  94],\n",
       "         [ 95,  96],\n",
       "         [ 97,  98],\n",
       "         [ 99, 100]]])>,\n",
       " <tf.Tensor: shape=(5, 5, 2), dtype=bool, numpy=\n",
       " array([[[ True,  True],\n",
       "         [ True,  True],\n",
       "         [ True,  True],\n",
       "         [ True,  True],\n",
       "         [ True,  True]],\n",
       " \n",
       "        [[ True,  True],\n",
       "         [ True,  True],\n",
       "         [ True,  True],\n",
       "         [ True,  True],\n",
       "         [ True,  True]],\n",
       " \n",
       "        [[ True,  True],\n",
       "         [ True,  True],\n",
       "         [ True,  True],\n",
       "         [ True,  True],\n",
       "         [ True,  True]],\n",
       " \n",
       "        [[ True,  True],\n",
       "         [ True,  True],\n",
       "         [ True,  True],\n",
       "         [ True,  True],\n",
       "         [ True,  True]],\n",
       " \n",
       "        [[ True,  True],\n",
       "         [ True,  True],\n",
       "         [ True,  True],\n",
       "         [ True,  True],\n",
       "         [ True,  True]]])>)"
      ]
     },
     "execution_count": 25,
     "metadata": {},
     "output_type": "execute_result"
    }
   ],
   "source": [
    "# Access a particular Axis / Dimensions\n",
    "tensor[0,1], tensor[0][1], tensor[0,1]==tensor[0][1]"
   ]
  },
  {
   "cell_type": "code",
   "execution_count": 28,
   "id": "063470dd-5260-495f-9c5d-52c72bd5a903",
   "metadata": {},
   "outputs": [
    {
     "name": "stdout",
     "output_type": "stream",
     "text": [
      "Elements at the 0th axis : 1\n",
      "Elements at the last axis : 2\n"
     ]
    }
   ],
   "source": [
    "print(f\"Elements at the 0th axis : {tensor.shape[0]}\")\n",
    "print(f\"Elements at the last axis : {tensor.shape[-1]}\")"
   ]
  },
  {
   "cell_type": "code",
   "execution_count": 29,
   "id": "a86fa5ee-f325-49ba-8a74-23a614f9d9b2",
   "metadata": {},
   "outputs": [
    {
     "data": {
      "text/plain": [
       "(TensorShape([1, 2, 5, 5, 2]),\n",
       " 5,\n",
       " <tf.Tensor: shape=(), dtype=int32, numpy=100>)"
      ]
     },
     "execution_count": 29,
     "metadata": {},
     "output_type": "execute_result"
    }
   ],
   "source": [
    "# Checking the returning class\n",
    "tensor.shape, tensor.ndim, tf.size(tensor)"
   ]
  },
  {
   "cell_type": "code",
   "execution_count": 31,
   "id": "bc6fdb07-42dd-470d-ba76-65359ddbe208",
   "metadata": {},
   "outputs": [
    {
     "data": {
      "text/plain": [
       "array([[[[[  1,   2],\n",
       "          [  3,   4],\n",
       "          [  5,   6],\n",
       "          [  7,   8],\n",
       "          [  9,  10]],\n",
       "\n",
       "         [[ 11,  12],\n",
       "          [ 13,  14],\n",
       "          [ 15,  16],\n",
       "          [ 17,  18],\n",
       "          [ 19,  20]],\n",
       "\n",
       "         [[ 21,  22],\n",
       "          [ 23,  24],\n",
       "          [ 25,  26],\n",
       "          [ 27,  28],\n",
       "          [ 29,  30]],\n",
       "\n",
       "         [[ 31,  32],\n",
       "          [ 33,  34],\n",
       "          [ 35,  36],\n",
       "          [ 37,  38],\n",
       "          [ 39,  40]],\n",
       "\n",
       "         [[ 41,  42],\n",
       "          [ 43,  44],\n",
       "          [ 45,  46],\n",
       "          [ 47,  48],\n",
       "          [ 49,  50]]],\n",
       "\n",
       "\n",
       "        [[[ 51,  52],\n",
       "          [ 53,  54],\n",
       "          [ 55,  56],\n",
       "          [ 57,  58],\n",
       "          [ 59,  60]],\n",
       "\n",
       "         [[ 61,  62],\n",
       "          [ 63,  64],\n",
       "          [ 65,  66],\n",
       "          [ 67,  68],\n",
       "          [ 69,  70]],\n",
       "\n",
       "         [[ 71,  72],\n",
       "          [ 73,  74],\n",
       "          [ 75,  76],\n",
       "          [ 77,  78],\n",
       "          [ 79,  80]],\n",
       "\n",
       "         [[ 81,  82],\n",
       "          [ 83,  84],\n",
       "          [ 85,  86],\n",
       "          [ 87,  88],\n",
       "          [ 89,  90]],\n",
       "\n",
       "         [[ 91,  92],\n",
       "          [ 93,  94],\n",
       "          [ 95,  96],\n",
       "          [ 97,  98],\n",
       "          [ 99, 100]]]]])"
      ]
     },
     "execution_count": 31,
     "metadata": {},
     "output_type": "execute_result"
    }
   ],
   "source": [
    "# Converting the tf.tensors to numpy array\n",
    "tensor.numpy()"
   ]
  },
  {
   "cell_type": "code",
   "execution_count": 32,
   "id": "6071811a-c17f-4ee4-a7d8-8ee40c0cff2b",
   "metadata": {},
   "outputs": [
    {
     "data": {
      "text/plain": [
       "<tf.Tensor: shape=(1, 2, 5, 5, 2), dtype=int64, numpy=\n",
       "array([[[[[  1,   2],\n",
       "          [  3,   4],\n",
       "          [  5,   6],\n",
       "          [  7,   8],\n",
       "          [  9,  10]],\n",
       "\n",
       "         [[ 11,  12],\n",
       "          [ 13,  14],\n",
       "          [ 15,  16],\n",
       "          [ 17,  18],\n",
       "          [ 19,  20]],\n",
       "\n",
       "         [[ 21,  22],\n",
       "          [ 23,  24],\n",
       "          [ 25,  26],\n",
       "          [ 27,  28],\n",
       "          [ 29,  30]],\n",
       "\n",
       "         [[ 31,  32],\n",
       "          [ 33,  34],\n",
       "          [ 35,  36],\n",
       "          [ 37,  38],\n",
       "          [ 39,  40]],\n",
       "\n",
       "         [[ 41,  42],\n",
       "          [ 43,  44],\n",
       "          [ 45,  46],\n",
       "          [ 47,  48],\n",
       "          [ 49,  50]]],\n",
       "\n",
       "\n",
       "        [[[ 51,  52],\n",
       "          [ 53,  54],\n",
       "          [ 55,  56],\n",
       "          [ 57,  58],\n",
       "          [ 59,  60]],\n",
       "\n",
       "         [[ 61,  62],\n",
       "          [ 63,  64],\n",
       "          [ 65,  66],\n",
       "          [ 67,  68],\n",
       "          [ 69,  70]],\n",
       "\n",
       "         [[ 71,  72],\n",
       "          [ 73,  74],\n",
       "          [ 75,  76],\n",
       "          [ 77,  78],\n",
       "          [ 79,  80]],\n",
       "\n",
       "         [[ 81,  82],\n",
       "          [ 83,  84],\n",
       "          [ 85,  86],\n",
       "          [ 87,  88],\n",
       "          [ 89,  90]],\n",
       "\n",
       "         [[ 91,  92],\n",
       "          [ 93,  94],\n",
       "          [ 95,  96],\n",
       "          [ 97,  98],\n",
       "          [ 99, 100]]]]])>"
      ]
     },
     "execution_count": 32,
     "metadata": {},
     "output_type": "execute_result"
    }
   ],
   "source": [
    "# Indexing of the tensors\n",
    "\n",
    "# sample tensor\n",
    "tensor"
   ]
  },
  {
   "cell_type": "code",
   "execution_count": 52,
   "id": "fdb2accb-b69d-4cad-a8f5-e65dc35ad1d1",
   "metadata": {},
   "outputs": [
    {
     "data": {
      "text/plain": [
       "<tf.Tensor: shape=(1, 2, 5, 5), dtype=int64, numpy=\n",
       "array([[[[ 1,  3,  5,  7,  9],\n",
       "         [11, 13, 15, 17, 19],\n",
       "         [21, 23, 25, 27, 29],\n",
       "         [31, 33, 35, 37, 39],\n",
       "         [41, 43, 45, 47, 49]],\n",
       "\n",
       "        [[51, 53, 55, 57, 59],\n",
       "         [61, 63, 65, 67, 69],\n",
       "         [71, 73, 75, 77, 79],\n",
       "         [81, 83, 85, 87, 89],\n",
       "         [91, 93, 95, 97, 99]]]])>"
      ]
     },
     "execution_count": 52,
     "metadata": {},
     "output_type": "execute_result"
    }
   ],
   "source": [
    "# Getting the 1st column\n",
    "tensor[:,:,:,:,0]"
   ]
  },
  {
   "cell_type": "code",
   "execution_count": 53,
   "id": "9d33a562-21a7-4884-ac05-c8f7bfecbc48",
   "metadata": {},
   "outputs": [
    {
     "data": {
      "text/plain": [
       "<tf.Tensor: shape=(1, 1, 1, 1, 1), dtype=int64, numpy=array([[[[[1]]]]])>"
      ]
     },
     "execution_count": 53,
     "metadata": {},
     "output_type": "execute_result"
    }
   ],
   "source": [
    "# Getting the 1st element in all the dimensions\n",
    "tensor[:1,:1,:1,:1,:1]"
   ]
  },
  {
   "cell_type": "code",
   "execution_count": 55,
   "id": "27433521-0b39-4f57-b1b3-88cab514b39e",
   "metadata": {},
   "outputs": [
    {
     "data": {
      "text/plain": [
       "<tf.Tensor: shape=(1, 1, 1, 1, 2), dtype=int64, numpy=array([[[[[1, 2]]]]])>"
      ]
     },
     "execution_count": 55,
     "metadata": {},
     "output_type": "execute_result"
    }
   ],
   "source": [
    "# Getting the 1st element from each dimenstionexcept from the final one\n",
    "tensor[:1,:1,:1,:1,:]"
   ]
  },
  {
   "cell_type": "code",
   "execution_count": 65,
   "id": "4a782495-38fc-4d6d-b7cb-29ed23f769e7",
   "metadata": {},
   "outputs": [
    {
     "data": {
      "text/plain": [
       "<tf.Tensor: shape=(1, 2, 5, 5), dtype=int64, numpy=\n",
       "array([[[[  2,   4,   6,   8,  10],\n",
       "         [ 12,  14,  16,  18,  20],\n",
       "         [ 22,  24,  26,  28,  30],\n",
       "         [ 32,  34,  36,  38,  40],\n",
       "         [ 42,  44,  46,  48,  50]],\n",
       "\n",
       "        [[ 52,  54,  56,  58,  60],\n",
       "         [ 62,  64,  66,  68,  70],\n",
       "         [ 72,  74,  76,  78,  80],\n",
       "         [ 82,  84,  86,  88,  90],\n",
       "         [ 92,  94,  96,  98, 100]]]])>"
      ]
     },
     "execution_count": 65,
     "metadata": {},
     "output_type": "execute_result"
    }
   ],
   "source": [
    "# Getting the last item of all the tensor in the last dimension\n",
    "tensor[:,:,:,:,-1]"
   ]
  },
  {
   "cell_type": "code",
   "execution_count": 60,
   "id": "e62fbb49-1bb3-4d95-b8ec-ae1799ed283c",
   "metadata": {},
   "outputs": [
    {
     "name": "stdout",
     "output_type": "stream",
     "text": [
      "Original tensor shape : (1, 10)\n",
      "Reshaped tensor shape : (2, 5)\n"
     ]
    }
   ],
   "source": [
    "# re-shaping a tensor\n",
    "# while reshaping a tensor the size of the original and reshaped tensor should be equal\n",
    "# ie., 1*10=10 == 2*5=10\n",
    "ot = tf.constant(tf.range(1,11),shape=(1,10))\n",
    "rt = tf.reshape(ot, shape=(2,5))\n",
    "\n",
    "print(f\"Original tensor shape : {ot.shape}\")\n",
    "print(f\"Reshaped tensor shape : {rt.shape}\")"
   ]
  },
  {
   "cell_type": "code",
   "execution_count": 61,
   "id": "9caa8230-5b5a-41a4-9d79-b9a280d05403",
   "metadata": {},
   "outputs": [
    {
     "data": {
      "text/plain": [
       "(<tf.Tensor: shape=(1, 10), dtype=int32, numpy=array([[ 1,  2,  3,  4,  5,  6,  7,  8,  9, 10]], dtype=int32)>,\n",
       " <tf.Tensor: shape=(2, 5), dtype=int32, numpy=\n",
       " array([[ 1,  2,  3,  4,  5],\n",
       "        [ 6,  7,  8,  9, 10]], dtype=int32)>)"
      ]
     },
     "execution_count": 61,
     "metadata": {},
     "output_type": "execute_result"
    }
   ],
   "source": [
    "ot, rt"
   ]
  },
  {
   "cell_type": "code",
   "execution_count": 62,
   "id": "d13630fa-5005-4fa2-825c-c14b72230dea",
   "metadata": {},
   "outputs": [
    {
     "data": {
      "text/plain": [
       "<tf.Tensor: shape=(1, 10), dtype=int32, numpy=array([[ 1,  2,  3,  4,  5,  6,  7,  8,  9, 10]], dtype=int32)>"
      ]
     },
     "execution_count": 62,
     "metadata": {},
     "output_type": "execute_result"
    }
   ],
   "source": [
    "tf.constant(ot)"
   ]
  },
  {
   "cell_type": "code",
   "execution_count": 63,
   "id": "cecd724f-8b10-4552-bcad-e306326c3907",
   "metadata": {},
   "outputs": [
    {
     "data": {
      "text/plain": [
       "<tf.Variable 'Variable:0' shape=(1, 10) dtype=int32, numpy=array([[ 1,  2,  3,  4,  5,  6,  7,  8,  9, 10]], dtype=int32)>"
      ]
     },
     "execution_count": 63,
     "metadata": {},
     "output_type": "execute_result"
    }
   ],
   "source": [
    "# Converting a constant tensor to variable tensor\n",
    "tf.Variable(ot)"
   ]
  },
  {
   "cell_type": "code",
   "execution_count": 64,
   "id": "e5d8a3a4-6939-4d5f-a407-5ed1fadf1b18",
   "metadata": {},
   "outputs": [
    {
     "data": {
      "text/plain": [
       "<tf.Tensor: shape=(5, 2), dtype=int32, numpy=\n",
       "array([[ 1,  2],\n",
       "       [ 3,  4],\n",
       "       [ 5,  6],\n",
       "       [ 7,  8],\n",
       "       [ 9, 10]], dtype=int32)>"
      ]
     },
     "execution_count": 64,
     "metadata": {},
     "output_type": "execute_result"
    }
   ],
   "source": [
    "# Converting back a variable tensor to constant tensor\n",
    "tf.constant(ot, shape=(5,2))"
   ]
  },
  {
   "cell_type": "code",
   "execution_count": 66,
   "id": "f25d41cf-569f-4fde-9496-41a3234b4d36",
   "metadata": {},
   "outputs": [
    {
     "data": {
      "text/plain": [
       "TensorShape([1, 2, 5, 5, 2])"
      ]
     },
     "execution_count": 66,
     "metadata": {},
     "output_type": "execute_result"
    }
   ],
   "source": [
    "# Adding an extra dimensions in an existing tensor\n",
    "tensor.shape"
   ]
  },
  {
   "cell_type": "code",
   "execution_count": 76,
   "id": "745f8d8b-e1e0-4093-9dc4-a7dd949fe638",
   "metadata": {},
   "outputs": [
    {
     "data": {
      "text/plain": [
       "(TensorShape([1, 2, 5, 5, 2, 1]), 6)"
      ]
     },
     "execution_count": 76,
     "metadata": {},
     "output_type": "execute_result"
    }
   ],
   "source": [
    "# Adding a new dimension by using the Ellipsis(...)\n",
    "aedt1 = tensor[..., tf.newaxis]\n",
    "aedt1.shape, aedt1.ndim"
   ]
  },
  {
   "cell_type": "code",
   "execution_count": 77,
   "id": "8c9397f6-1c75-48d6-a0e7-1bcef99a4358",
   "metadata": {
    "scrolled": true
   },
   "outputs": [
    {
     "data": {
      "text/plain": [
       "<tf.Tensor: shape=(1, 2, 5, 5, 2, 1), dtype=int64, numpy=\n",
       "array([[[[[[  1],\n",
       "           [  2]],\n",
       "\n",
       "          [[  3],\n",
       "           [  4]],\n",
       "\n",
       "          [[  5],\n",
       "           [  6]],\n",
       "\n",
       "          [[  7],\n",
       "           [  8]],\n",
       "\n",
       "          [[  9],\n",
       "           [ 10]]],\n",
       "\n",
       "\n",
       "         [[[ 11],\n",
       "           [ 12]],\n",
       "\n",
       "          [[ 13],\n",
       "           [ 14]],\n",
       "\n",
       "          [[ 15],\n",
       "           [ 16]],\n",
       "\n",
       "          [[ 17],\n",
       "           [ 18]],\n",
       "\n",
       "          [[ 19],\n",
       "           [ 20]]],\n",
       "\n",
       "\n",
       "         [[[ 21],\n",
       "           [ 22]],\n",
       "\n",
       "          [[ 23],\n",
       "           [ 24]],\n",
       "\n",
       "          [[ 25],\n",
       "           [ 26]],\n",
       "\n",
       "          [[ 27],\n",
       "           [ 28]],\n",
       "\n",
       "          [[ 29],\n",
       "           [ 30]]],\n",
       "\n",
       "\n",
       "         [[[ 31],\n",
       "           [ 32]],\n",
       "\n",
       "          [[ 33],\n",
       "           [ 34]],\n",
       "\n",
       "          [[ 35],\n",
       "           [ 36]],\n",
       "\n",
       "          [[ 37],\n",
       "           [ 38]],\n",
       "\n",
       "          [[ 39],\n",
       "           [ 40]]],\n",
       "\n",
       "\n",
       "         [[[ 41],\n",
       "           [ 42]],\n",
       "\n",
       "          [[ 43],\n",
       "           [ 44]],\n",
       "\n",
       "          [[ 45],\n",
       "           [ 46]],\n",
       "\n",
       "          [[ 47],\n",
       "           [ 48]],\n",
       "\n",
       "          [[ 49],\n",
       "           [ 50]]]],\n",
       "\n",
       "\n",
       "\n",
       "        [[[[ 51],\n",
       "           [ 52]],\n",
       "\n",
       "          [[ 53],\n",
       "           [ 54]],\n",
       "\n",
       "          [[ 55],\n",
       "           [ 56]],\n",
       "\n",
       "          [[ 57],\n",
       "           [ 58]],\n",
       "\n",
       "          [[ 59],\n",
       "           [ 60]]],\n",
       "\n",
       "\n",
       "         [[[ 61],\n",
       "           [ 62]],\n",
       "\n",
       "          [[ 63],\n",
       "           [ 64]],\n",
       "\n",
       "          [[ 65],\n",
       "           [ 66]],\n",
       "\n",
       "          [[ 67],\n",
       "           [ 68]],\n",
       "\n",
       "          [[ 69],\n",
       "           [ 70]]],\n",
       "\n",
       "\n",
       "         [[[ 71],\n",
       "           [ 72]],\n",
       "\n",
       "          [[ 73],\n",
       "           [ 74]],\n",
       "\n",
       "          [[ 75],\n",
       "           [ 76]],\n",
       "\n",
       "          [[ 77],\n",
       "           [ 78]],\n",
       "\n",
       "          [[ 79],\n",
       "           [ 80]]],\n",
       "\n",
       "\n",
       "         [[[ 81],\n",
       "           [ 82]],\n",
       "\n",
       "          [[ 83],\n",
       "           [ 84]],\n",
       "\n",
       "          [[ 85],\n",
       "           [ 86]],\n",
       "\n",
       "          [[ 87],\n",
       "           [ 88]],\n",
       "\n",
       "          [[ 89],\n",
       "           [ 90]]],\n",
       "\n",
       "\n",
       "         [[[ 91],\n",
       "           [ 92]],\n",
       "\n",
       "          [[ 93],\n",
       "           [ 94]],\n",
       "\n",
       "          [[ 95],\n",
       "           [ 96]],\n",
       "\n",
       "          [[ 97],\n",
       "           [ 98]],\n",
       "\n",
       "          [[ 99],\n",
       "           [100]]]]]])>"
      ]
     },
     "execution_count": 77,
     "metadata": {},
     "output_type": "execute_result"
    }
   ],
   "source": [
    "aedt1"
   ]
  },
  {
   "cell_type": "code",
   "execution_count": 78,
   "id": "7af50890-58b5-4bc4-bf36-38843727c71f",
   "metadata": {},
   "outputs": [
    {
     "data": {
      "text/plain": [
       "(TensorShape([1, 2, 5, 5, 2, 1, 1]), 7)"
      ]
     },
     "execution_count": 78,
     "metadata": {},
     "output_type": "execute_result"
    }
   ],
   "source": [
    "aedt2 = tensor[...,tf.newaxis,tf.newaxis]\n",
    "aedt2.shape, aedt2.ndim"
   ]
  },
  {
   "cell_type": "code",
   "execution_count": 79,
   "id": "b9fa8c7c-752b-4aae-88d3-a8cfc6e29bd3",
   "metadata": {
    "scrolled": true
   },
   "outputs": [
    {
     "data": {
      "text/plain": [
       "<tf.Tensor: shape=(1, 2, 5, 5, 2, 1, 1), dtype=int64, numpy=\n",
       "array([[[[[[[  1]],\n",
       "\n",
       "           [[  2]]],\n",
       "\n",
       "\n",
       "          [[[  3]],\n",
       "\n",
       "           [[  4]]],\n",
       "\n",
       "\n",
       "          [[[  5]],\n",
       "\n",
       "           [[  6]]],\n",
       "\n",
       "\n",
       "          [[[  7]],\n",
       "\n",
       "           [[  8]]],\n",
       "\n",
       "\n",
       "          [[[  9]],\n",
       "\n",
       "           [[ 10]]]],\n",
       "\n",
       "\n",
       "\n",
       "         [[[[ 11]],\n",
       "\n",
       "           [[ 12]]],\n",
       "\n",
       "\n",
       "          [[[ 13]],\n",
       "\n",
       "           [[ 14]]],\n",
       "\n",
       "\n",
       "          [[[ 15]],\n",
       "\n",
       "           [[ 16]]],\n",
       "\n",
       "\n",
       "          [[[ 17]],\n",
       "\n",
       "           [[ 18]]],\n",
       "\n",
       "\n",
       "          [[[ 19]],\n",
       "\n",
       "           [[ 20]]]],\n",
       "\n",
       "\n",
       "\n",
       "         [[[[ 21]],\n",
       "\n",
       "           [[ 22]]],\n",
       "\n",
       "\n",
       "          [[[ 23]],\n",
       "\n",
       "           [[ 24]]],\n",
       "\n",
       "\n",
       "          [[[ 25]],\n",
       "\n",
       "           [[ 26]]],\n",
       "\n",
       "\n",
       "          [[[ 27]],\n",
       "\n",
       "           [[ 28]]],\n",
       "\n",
       "\n",
       "          [[[ 29]],\n",
       "\n",
       "           [[ 30]]]],\n",
       "\n",
       "\n",
       "\n",
       "         [[[[ 31]],\n",
       "\n",
       "           [[ 32]]],\n",
       "\n",
       "\n",
       "          [[[ 33]],\n",
       "\n",
       "           [[ 34]]],\n",
       "\n",
       "\n",
       "          [[[ 35]],\n",
       "\n",
       "           [[ 36]]],\n",
       "\n",
       "\n",
       "          [[[ 37]],\n",
       "\n",
       "           [[ 38]]],\n",
       "\n",
       "\n",
       "          [[[ 39]],\n",
       "\n",
       "           [[ 40]]]],\n",
       "\n",
       "\n",
       "\n",
       "         [[[[ 41]],\n",
       "\n",
       "           [[ 42]]],\n",
       "\n",
       "\n",
       "          [[[ 43]],\n",
       "\n",
       "           [[ 44]]],\n",
       "\n",
       "\n",
       "          [[[ 45]],\n",
       "\n",
       "           [[ 46]]],\n",
       "\n",
       "\n",
       "          [[[ 47]],\n",
       "\n",
       "           [[ 48]]],\n",
       "\n",
       "\n",
       "          [[[ 49]],\n",
       "\n",
       "           [[ 50]]]]],\n",
       "\n",
       "\n",
       "\n",
       "\n",
       "        [[[[[ 51]],\n",
       "\n",
       "           [[ 52]]],\n",
       "\n",
       "\n",
       "          [[[ 53]],\n",
       "\n",
       "           [[ 54]]],\n",
       "\n",
       "\n",
       "          [[[ 55]],\n",
       "\n",
       "           [[ 56]]],\n",
       "\n",
       "\n",
       "          [[[ 57]],\n",
       "\n",
       "           [[ 58]]],\n",
       "\n",
       "\n",
       "          [[[ 59]],\n",
       "\n",
       "           [[ 60]]]],\n",
       "\n",
       "\n",
       "\n",
       "         [[[[ 61]],\n",
       "\n",
       "           [[ 62]]],\n",
       "\n",
       "\n",
       "          [[[ 63]],\n",
       "\n",
       "           [[ 64]]],\n",
       "\n",
       "\n",
       "          [[[ 65]],\n",
       "\n",
       "           [[ 66]]],\n",
       "\n",
       "\n",
       "          [[[ 67]],\n",
       "\n",
       "           [[ 68]]],\n",
       "\n",
       "\n",
       "          [[[ 69]],\n",
       "\n",
       "           [[ 70]]]],\n",
       "\n",
       "\n",
       "\n",
       "         [[[[ 71]],\n",
       "\n",
       "           [[ 72]]],\n",
       "\n",
       "\n",
       "          [[[ 73]],\n",
       "\n",
       "           [[ 74]]],\n",
       "\n",
       "\n",
       "          [[[ 75]],\n",
       "\n",
       "           [[ 76]]],\n",
       "\n",
       "\n",
       "          [[[ 77]],\n",
       "\n",
       "           [[ 78]]],\n",
       "\n",
       "\n",
       "          [[[ 79]],\n",
       "\n",
       "           [[ 80]]]],\n",
       "\n",
       "\n",
       "\n",
       "         [[[[ 81]],\n",
       "\n",
       "           [[ 82]]],\n",
       "\n",
       "\n",
       "          [[[ 83]],\n",
       "\n",
       "           [[ 84]]],\n",
       "\n",
       "\n",
       "          [[[ 85]],\n",
       "\n",
       "           [[ 86]]],\n",
       "\n",
       "\n",
       "          [[[ 87]],\n",
       "\n",
       "           [[ 88]]],\n",
       "\n",
       "\n",
       "          [[[ 89]],\n",
       "\n",
       "           [[ 90]]]],\n",
       "\n",
       "\n",
       "\n",
       "         [[[[ 91]],\n",
       "\n",
       "           [[ 92]]],\n",
       "\n",
       "\n",
       "          [[[ 93]],\n",
       "\n",
       "           [[ 94]]],\n",
       "\n",
       "\n",
       "          [[[ 95]],\n",
       "\n",
       "           [[ 96]]],\n",
       "\n",
       "\n",
       "          [[[ 97]],\n",
       "\n",
       "           [[ 98]]],\n",
       "\n",
       "\n",
       "          [[[ 99]],\n",
       "\n",
       "           [[100]]]]]]])>"
      ]
     },
     "execution_count": 79,
     "metadata": {},
     "output_type": "execute_result"
    }
   ],
   "source": [
    "aedt2"
   ]
  },
  {
   "cell_type": "code",
   "execution_count": 80,
   "id": "6474976d-4c3a-424c-a673-3886cdafd4cd",
   "metadata": {},
   "outputs": [
    {
     "data": {
      "text/plain": [
       "TensorShape([1, 2, 1, 5, 5, 2])"
      ]
     },
     "execution_count": 80,
     "metadata": {},
     "output_type": "execute_result"
    }
   ],
   "source": [
    "# To explicitly specifying that the new axis should be added after the third dimension (index 2)\n",
    "aedt3 = tensor[:,:,tf.newaxis]\n",
    "aedt3.shape"
   ]
  },
  {
   "cell_type": "code",
   "execution_count": 81,
   "id": "b37e9447-c035-4436-8383-d8c93ea7a3e5",
   "metadata": {
    "scrolled": true
   },
   "outputs": [
    {
     "data": {
      "text/plain": [
       "<tf.Tensor: shape=(1, 2, 1, 5, 5, 2), dtype=int64, numpy=\n",
       "array([[[[[[  1,   2],\n",
       "           [  3,   4],\n",
       "           [  5,   6],\n",
       "           [  7,   8],\n",
       "           [  9,  10]],\n",
       "\n",
       "          [[ 11,  12],\n",
       "           [ 13,  14],\n",
       "           [ 15,  16],\n",
       "           [ 17,  18],\n",
       "           [ 19,  20]],\n",
       "\n",
       "          [[ 21,  22],\n",
       "           [ 23,  24],\n",
       "           [ 25,  26],\n",
       "           [ 27,  28],\n",
       "           [ 29,  30]],\n",
       "\n",
       "          [[ 31,  32],\n",
       "           [ 33,  34],\n",
       "           [ 35,  36],\n",
       "           [ 37,  38],\n",
       "           [ 39,  40]],\n",
       "\n",
       "          [[ 41,  42],\n",
       "           [ 43,  44],\n",
       "           [ 45,  46],\n",
       "           [ 47,  48],\n",
       "           [ 49,  50]]]],\n",
       "\n",
       "\n",
       "\n",
       "        [[[[ 51,  52],\n",
       "           [ 53,  54],\n",
       "           [ 55,  56],\n",
       "           [ 57,  58],\n",
       "           [ 59,  60]],\n",
       "\n",
       "          [[ 61,  62],\n",
       "           [ 63,  64],\n",
       "           [ 65,  66],\n",
       "           [ 67,  68],\n",
       "           [ 69,  70]],\n",
       "\n",
       "          [[ 71,  72],\n",
       "           [ 73,  74],\n",
       "           [ 75,  76],\n",
       "           [ 77,  78],\n",
       "           [ 79,  80]],\n",
       "\n",
       "          [[ 81,  82],\n",
       "           [ 83,  84],\n",
       "           [ 85,  86],\n",
       "           [ 87,  88],\n",
       "           [ 89,  90]],\n",
       "\n",
       "          [[ 91,  92],\n",
       "           [ 93,  94],\n",
       "           [ 95,  96],\n",
       "           [ 97,  98],\n",
       "           [ 99, 100]]]]]])>"
      ]
     },
     "execution_count": 81,
     "metadata": {},
     "output_type": "execute_result"
    }
   ],
   "source": [
    "aedt3"
   ]
  },
  {
   "cell_type": "code",
   "execution_count": 83,
   "id": "e472263a-bc94-453a-83b9-c2e6292dd246",
   "metadata": {},
   "outputs": [
    {
     "data": {
      "text/plain": [
       "TensorShape([1, 2, 1, 5, 5, 2])"
      ]
     },
     "execution_count": 83,
     "metadata": {},
     "output_type": "execute_result"
    }
   ],
   "source": [
    "# Adding a new dimension by using the tf.expand_dims() method\n",
    "aedt4 = tf.expand_dims(tensor, axis=2)\n",
    "aedt4.shape"
   ]
  },
  {
   "cell_type": "code",
   "execution_count": 84,
   "id": "332dbb3c-1eb2-4317-968b-f3cac4f1143b",
   "metadata": {
    "scrolled": true
   },
   "outputs": [
    {
     "data": {
      "text/plain": [
       "<tf.Tensor: shape=(1, 2, 1, 5, 5, 2), dtype=int64, numpy=\n",
       "array([[[[[[  1,   2],\n",
       "           [  3,   4],\n",
       "           [  5,   6],\n",
       "           [  7,   8],\n",
       "           [  9,  10]],\n",
       "\n",
       "          [[ 11,  12],\n",
       "           [ 13,  14],\n",
       "           [ 15,  16],\n",
       "           [ 17,  18],\n",
       "           [ 19,  20]],\n",
       "\n",
       "          [[ 21,  22],\n",
       "           [ 23,  24],\n",
       "           [ 25,  26],\n",
       "           [ 27,  28],\n",
       "           [ 29,  30]],\n",
       "\n",
       "          [[ 31,  32],\n",
       "           [ 33,  34],\n",
       "           [ 35,  36],\n",
       "           [ 37,  38],\n",
       "           [ 39,  40]],\n",
       "\n",
       "          [[ 41,  42],\n",
       "           [ 43,  44],\n",
       "           [ 45,  46],\n",
       "           [ 47,  48],\n",
       "           [ 49,  50]]]],\n",
       "\n",
       "\n",
       "\n",
       "        [[[[ 51,  52],\n",
       "           [ 53,  54],\n",
       "           [ 55,  56],\n",
       "           [ 57,  58],\n",
       "           [ 59,  60]],\n",
       "\n",
       "          [[ 61,  62],\n",
       "           [ 63,  64],\n",
       "           [ 65,  66],\n",
       "           [ 67,  68],\n",
       "           [ 69,  70]],\n",
       "\n",
       "          [[ 71,  72],\n",
       "           [ 73,  74],\n",
       "           [ 75,  76],\n",
       "           [ 77,  78],\n",
       "           [ 79,  80]],\n",
       "\n",
       "          [[ 81,  82],\n",
       "           [ 83,  84],\n",
       "           [ 85,  86],\n",
       "           [ 87,  88],\n",
       "           [ 89,  90]],\n",
       "\n",
       "          [[ 91,  92],\n",
       "           [ 93,  94],\n",
       "           [ 95,  96],\n",
       "           [ 97,  98],\n",
       "           [ 99, 100]]]]]])>"
      ]
     },
     "execution_count": 84,
     "metadata": {},
     "output_type": "execute_result"
    }
   ],
   "source": [
    "aedt4"
   ]
  },
  {
   "cell_type": "code",
   "execution_count": 87,
   "id": "fe99779b-cae1-4286-9123-d4a148f5197d",
   "metadata": {
    "scrolled": true
   },
   "outputs": [
    {
     "data": {
      "text/plain": [
       "<tf.Tensor: shape=(1, 2, 1, 5, 5, 2), dtype=bool, numpy=\n",
       "array([[[[[[ True,  True],\n",
       "           [ True,  True],\n",
       "           [ True,  True],\n",
       "           [ True,  True],\n",
       "           [ True,  True]],\n",
       "\n",
       "          [[ True,  True],\n",
       "           [ True,  True],\n",
       "           [ True,  True],\n",
       "           [ True,  True],\n",
       "           [ True,  True]],\n",
       "\n",
       "          [[ True,  True],\n",
       "           [ True,  True],\n",
       "           [ True,  True],\n",
       "           [ True,  True],\n",
       "           [ True,  True]],\n",
       "\n",
       "          [[ True,  True],\n",
       "           [ True,  True],\n",
       "           [ True,  True],\n",
       "           [ True,  True],\n",
       "           [ True,  True]],\n",
       "\n",
       "          [[ True,  True],\n",
       "           [ True,  True],\n",
       "           [ True,  True],\n",
       "           [ True,  True],\n",
       "           [ True,  True]]]],\n",
       "\n",
       "\n",
       "\n",
       "        [[[[ True,  True],\n",
       "           [ True,  True],\n",
       "           [ True,  True],\n",
       "           [ True,  True],\n",
       "           [ True,  True]],\n",
       "\n",
       "          [[ True,  True],\n",
       "           [ True,  True],\n",
       "           [ True,  True],\n",
       "           [ True,  True],\n",
       "           [ True,  True]],\n",
       "\n",
       "          [[ True,  True],\n",
       "           [ True,  True],\n",
       "           [ True,  True],\n",
       "           [ True,  True],\n",
       "           [ True,  True]],\n",
       "\n",
       "          [[ True,  True],\n",
       "           [ True,  True],\n",
       "           [ True,  True],\n",
       "           [ True,  True],\n",
       "           [ True,  True]],\n",
       "\n",
       "          [[ True,  True],\n",
       "           [ True,  True],\n",
       "           [ True,  True],\n",
       "           [ True,  True],\n",
       "           [ True,  True]]]]]])>"
      ]
     },
     "execution_count": 87,
     "metadata": {},
     "output_type": "execute_result"
    }
   ],
   "source": [
    "# Checking the result obtained by the ellipsis method and expand_dims method are same\n",
    "# for adding a new axis(dimension) at the 2nd index\n",
    "aedt3 == aedt4"
   ]
  },
  {
   "cell_type": "code",
   "execution_count": 94,
   "id": "07a01037-0e95-4a2f-8f11-9f4e1278ff6e",
   "metadata": {},
   "outputs": [
    {
     "data": {
      "text/plain": [
       "TensorShape([1, 2, 5, 5, 2, 1])"
      ]
     },
     "execution_count": 94,
     "metadata": {},
     "output_type": "execute_result"
    }
   ],
   "source": [
    "# Squeezing a tensor\n",
    "mdft = tensor[..., tf.newaxis]\n",
    "mdft.shape"
   ]
  },
  {
   "cell_type": "code",
   "execution_count": 96,
   "id": "8dea38e6-1143-4063-873c-73ee9eeecbeb",
   "metadata": {},
   "outputs": [
    {
     "data": {
      "text/plain": [
       "TensorShape([1, 2, 5, 5, 2])"
      ]
     },
     "execution_count": 96,
     "metadata": {},
     "output_type": "execute_result"
    }
   ],
   "source": [
    "szt1=tf.squeeze(mdft, axis=-1)\n",
    "szt1.shape"
   ]
  },
  {
   "cell_type": "code",
   "execution_count": 98,
   "id": "560e3e14-92a5-406b-a7e6-8ad4a2517443",
   "metadata": {},
   "outputs": [
    {
     "data": {
      "text/plain": [
       "TensorShape([2, 5, 5, 2, 1])"
      ]
     },
     "execution_count": 98,
     "metadata": {},
     "output_type": "execute_result"
    }
   ],
   "source": [
    "szt2=tf.squeeze(mdft, axis=0)\n",
    "szt2.shape"
   ]
  },
  {
   "cell_type": "code",
   "execution_count": 101,
   "id": "dbf46877-4cc7-4693-9bc6-8943ddc2ae30",
   "metadata": {},
   "outputs": [
    {
     "data": {
      "text/plain": [
       "TensorShape([2, 5, 5, 2])"
      ]
     },
     "execution_count": 101,
     "metadata": {},
     "output_type": "execute_result"
    }
   ],
   "source": [
    "# If the axis is not specified it squeezes all the dimension with shape 1\n",
    "szt3=tf.squeeze(mdft)\n",
    "szt3.shape"
   ]
  },
  {
   "cell_type": "code",
   "execution_count": 13,
   "id": "820cf0fe-2753-45d0-9b6f-7d1fa629c1ff",
   "metadata": {},
   "outputs": [
    {
     "data": {
      "text/plain": [
       "array([  3,   4,   5,   6,   7,   8,   9,  10,  11,  12,  13,  14,  15,\n",
       "        16,  17,  18,  19,  20,  21,  22,  23,  24,  25,  26,  27,  28,\n",
       "        29,  30,  31,  32,  33,  34,  35,  36,  37,  38,  39,  40,  41,\n",
       "        42,  43,  44,  45,  46,  47,  48,  49,  50,  51,  52,  53,  54,\n",
       "        55,  56,  57,  58,  59,  60,  61,  62,  63,  64,  65,  66,  67,\n",
       "        68,  69,  70,  71,  72,  73,  74,  75,  76,  77,  78,  79,  80,\n",
       "        81,  82,  83,  84,  85,  86,  87,  88,  89,  90,  91,  92,  93,\n",
       "        94,  95,  96,  97,  98,  99, 100, 101, 102, 103, 104, 105, 106,\n",
       "       107, 108, 109, 110, 111, 112, 113, 114, 115, 116, 117, 118, 119,\n",
       "       120, 121, 122, 123, 124, 125, 126, 127, 128, 129, 130, 131, 132,\n",
       "       133, 134, 135, 136, 137, 138, 139, 140, 141, 142, 143, 144, 145,\n",
       "       146, 147, 148, 149, 150, 151, 152, 153, 154, 155, 156, 157, 158,\n",
       "       159, 160, 161, 162, 163, 164, 165, 166, 167, 168, 169, 170, 171,\n",
       "       172, 173, 174, 175, 176, 177, 178, 179, 180, 181, 182, 183, 184,\n",
       "       185, 186, 187, 188, 189, 190, 191, 192, 193, 194, 195, 196, 197,\n",
       "       198, 199, 200, 201, 202, 203, 204, 205, 206, 207, 208, 209, 210,\n",
       "       211, 212, 213, 214, 215, 216, 217, 218, 219, 220, 221, 222, 223,\n",
       "       224, 225, 226, 227, 228, 229, 230, 231, 232, 233, 234, 235, 236,\n",
       "       237, 238, 239, 240, 241, 242, 243, 244, 245, 246, 247, 248, 249,\n",
       "       250, 251, 252, 253, 254, 255, 256, 257, 258, 259, 260, 261, 262,\n",
       "       263, 264, 265, 266, 267, 268, 269, 270, 271, 272, 273, 274, 275,\n",
       "       276, 277, 278, 279, 280, 281, 282, 283, 284, 285, 286, 287, 288,\n",
       "       289, 290, 291, 292, 293, 294, 295, 296, 297, 298, 299, 300, 301,\n",
       "       302, 303, 304, 305, 306, 307, 308, 309, 310, 311, 312, 313, 314,\n",
       "       315, 316, 317, 318, 319, 320, 321, 322, 323, 324, 325, 326, 327,\n",
       "       328, 329, 330, 331, 332, 333, 334, 335, 336, 337, 338, 339, 340,\n",
       "       341, 342, 343, 344, 345, 346, 347, 348, 349, 350, 351, 352, 353,\n",
       "       354, 355, 356, 357, 358, 359, 360, 361, 362, 363, 364, 365, 366,\n",
       "       367, 368, 369, 370, 371, 372, 373, 374, 375, 376, 377, 378, 379,\n",
       "       380, 381, 382, 383, 384, 385, 386, 387, 388, 389, 390, 391, 392,\n",
       "       393, 394, 395, 396, 397, 398, 399, 400, 401, 402, 403, 404, 405,\n",
       "       406, 407, 408, 409, 410, 411, 412, 413, 414, 415, 416, 417, 418,\n",
       "       419, 420, 421, 422, 423, 424, 425, 426, 427, 428, 429, 430, 431],\n",
       "      dtype=int32)"
      ]
     },
     "execution_count": 13,
     "metadata": {},
     "output_type": "execute_result"
    }
   ],
   "source": [
    "# .eval() and .numpy() results the same\n",
    "tf.range(3,432).numpy()"
   ]
  },
  {
   "cell_type": "code",
   "execution_count": null,
   "id": "c2e18373-aaef-45b1-b19d-a11f7ca56d45",
   "metadata": {},
   "outputs": [],
   "source": []
  }
 ],
 "metadata": {
  "kernelspec": {
   "display_name": "Python 3 (ipykernel)",
   "language": "python",
   "name": "python3"
  },
  "language_info": {
   "codemirror_mode": {
    "name": "ipython",
    "version": 3
   },
   "file_extension": ".py",
   "mimetype": "text/x-python",
   "name": "python",
   "nbconvert_exporter": "python",
   "pygments_lexer": "ipython3",
   "version": "3.10.14"
  }
 },
 "nbformat": 4,
 "nbformat_minor": 5
}
