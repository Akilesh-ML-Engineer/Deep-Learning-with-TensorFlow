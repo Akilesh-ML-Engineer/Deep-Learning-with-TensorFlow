{
 "cells": [
  {
   "cell_type": "code",
   "execution_count": 1,
   "id": "5c5be4f9-5f38-49fc-bbd0-cea2eefab6d0",
   "metadata": {},
   "outputs": [
    {
     "name": "stdout",
     "output_type": "stream",
     "text": [
      "/home/asa/anaconda3/envs/TensorFlow-Development/bin/python\n"
     ]
    }
   ],
   "source": [
    "!which python"
   ]
  },
  {
   "cell_type": "code",
   "execution_count": 1,
   "id": "98486540-5962-4897-851c-6e088a6da8a3",
   "metadata": {},
   "outputs": [
    {
     "name": "stderr",
     "output_type": "stream",
     "text": [
      "2024-08-08 16:53:03.572440: W tensorflow/compiler/tf2tensorrt/utils/py_utils.cc:38] TF-TRT Warning: Could not find TensorRT\n"
     ]
    }
   ],
   "source": [
    "# Importing the packages\n",
    "import tensorflow as tf"
   ]
  },
  {
   "cell_type": "code",
   "execution_count": 47,
   "id": "48884f91-55bc-42c7-8c23-bc07271573ff",
   "metadata": {},
   "outputs": [
    {
     "name": "stdout",
     "output_type": "stream",
     "text": [
      "2.16.1\n"
     ]
    }
   ],
   "source": [
    "# Checking the tensorflow version\n",
    "print(tf.__version__)"
   ]
  },
  {
   "cell_type": "code",
   "execution_count": 59,
   "id": "79839ad3-da7d-4c20-bc30-e4aec952b6ef",
   "metadata": {},
   "outputs": [
    {
     "data": {
      "text/plain": [
       "<tf.Tensor: shape=(), dtype=int32, numpy=7>"
      ]
     },
     "execution_count": 59,
     "metadata": {},
     "output_type": "execute_result"
    }
   ],
   "source": [
    "# Constants\n",
    "c1 = tf.constant(7)\n",
    "c1"
   ]
  },
  {
   "cell_type": "code",
   "execution_count": 60,
   "id": "4816d512-7375-4068-8e24-ab7689e135dd",
   "metadata": {},
   "outputs": [
    {
     "data": {
      "text/plain": [
       "0"
      ]
     },
     "execution_count": 60,
     "metadata": {},
     "output_type": "execute_result"
    }
   ],
   "source": [
    "# Check the dim of a tensor\n",
    "c1.ndim"
   ]
  },
  {
   "cell_type": "code",
   "execution_count": 61,
   "id": "9cf297c6-3f1b-477c-b473-3d84ee12b94b",
   "metadata": {},
   "outputs": [
    {
     "name": "stdout",
     "output_type": "stream",
     "text": [
      "tf.Tensor([1 2 3], shape=(3,), dtype=int32)\n",
      "1\n"
     ]
    }
   ],
   "source": [
    "# Creating the vector\n",
    "v1 = tf.constant([1,2,3])\n",
    "print(v1)\n",
    "print(v1.ndim)"
   ]
  },
  {
   "cell_type": "code",
   "execution_count": 62,
   "id": "a23d8754-b58d-450b-9665-0fa0f8b3b0d4",
   "metadata": {},
   "outputs": [
    {
     "name": "stdout",
     "output_type": "stream",
     "text": [
      "tf.Tensor(\n",
      "[[1 2]\n",
      " [3 4]], shape=(2, 2), dtype=int32)\n",
      "2\n"
     ]
    }
   ],
   "source": [
    "# Creating the matrix\n",
    "m1 = tf.constant([[1,2],\n",
    "                  [3,4]])\n",
    "print(m1)\n",
    "print(m1.ndim)"
   ]
  },
  {
   "cell_type": "code",
   "execution_count": 63,
   "id": "24097c83-bc40-4163-bfa1-4d7e07ba8d89",
   "metadata": {},
   "outputs": [
    {
     "name": "stdout",
     "output_type": "stream",
     "text": [
      "<dtype: 'int32'>\n",
      "<dtype: 'int64'>\n"
     ]
    }
   ],
   "source": [
    "# Specifying the dtype for the tensor\n",
    "print(c1.dtype)\n",
    "c2=tf.constant(3, dtype=tf.int64)\n",
    "print(c2.dtype)"
   ]
  },
  {
   "cell_type": "code",
   "execution_count": 64,
   "id": "f050c2a3-dd05-4a04-9968-53aedb8b14dd",
   "metadata": {},
   "outputs": [
    {
     "data": {
      "text/plain": [
       "<tf.Tensor: shape=(2, 2), dtype=float64, numpy=\n",
       "array([[ 3.,  2.],\n",
       "       [ 3., 42.]])>"
      ]
     },
     "execution_count": 64,
     "metadata": {},
     "output_type": "execute_result"
    }
   ],
   "source": [
    "m2 = tf.constant([[3.,2.],\n",
    "                  [3.,42.]], dtype=tf.float64)\n",
    "m2\n",
    "# Does the tf stores the value of the tensors as a numpy array"
   ]
  },
  {
   "cell_type": "code",
   "execution_count": 65,
   "id": "165cd6e7-8197-4729-b24e-8078aea9096a",
   "metadata": {},
   "outputs": [
    {
     "data": {
      "text/plain": [
       "<tf.Tensor: shape=(3, 2, 2), dtype=int32, numpy=\n",
       "array([[[1, 2],\n",
       "        [3, 4]],\n",
       "\n",
       "       [[5, 6],\n",
       "        [7, 8]],\n",
       "\n",
       "       [[9, 0],\n",
       "        [1, 2]]], dtype=int32)>"
      ]
     },
     "execution_count": 65,
     "metadata": {},
     "output_type": "execute_result"
    }
   ],
   "source": [
    "# Tensors with the higher dimension\n",
    "t1 = tf.constant([[[1,2],[3,4]],[[5,6],[7,8]],[[9,0],[1,2]]])\n",
    "t1"
   ]
  },
  {
   "cell_type": "code",
   "execution_count": 3,
   "id": "42e9671a-1b4a-4ce8-a514-5a90b8a40e7c",
   "metadata": {},
   "outputs": [
    {
     "data": {
      "text/plain": [
       "(<tf.Variable 'Variable:0' shape=(2,) dtype=int32, numpy=array([2, 4], dtype=int32)>,\n",
       " <tf.Tensor: shape=(2,), dtype=int32, numpy=array([2, 4], dtype=int32)>)"
      ]
     },
     "execution_count": 3,
     "metadata": {},
     "output_type": "execute_result"
    }
   ],
   "source": [
    "# Creating tensors with variables\n",
    "changable_tensor = tf.Variable([2,4])\n",
    "unchangable_tensor = tf.constant([2,4])\n",
    "changable_tensor, unchangable_tensor"
   ]
  },
  {
   "cell_type": "code",
   "execution_count": 4,
   "id": "00f94f9c-780a-450c-ad5f-2b37c1f27acd",
   "metadata": {},
   "outputs": [
    {
     "data": {
      "text/plain": [
       "<tf.Variable 'Variable:0' shape=(2, 2) dtype=int32, numpy=\n",
       "array([[2, 3],\n",
       "       [3, 2]], dtype=int32)>"
      ]
     },
     "execution_count": 4,
     "metadata": {},
     "output_type": "execute_result"
    }
   ],
   "source": [
    "v1 = tf.Variable([[2,3],[3,2]])\n",
    "v1"
   ]
  },
  {
   "cell_type": "code",
   "execution_count": 7,
   "id": "76dff972-3238-4274-ab50-6ae88eacc6a7",
   "metadata": {},
   "outputs": [
    {
     "ename": "TypeError",
     "evalue": "'ResourceVariable' object does not support item assignment",
     "output_type": "error",
     "traceback": [
      "\u001b[0;31m---------------------------------------------------------------------------\u001b[0m",
      "\u001b[0;31mTypeError\u001b[0m                                 Traceback (most recent call last)",
      "Cell \u001b[0;32mIn[7], line 2\u001b[0m\n\u001b[1;32m      1\u001b[0m \u001b[38;5;66;03m# Change the element of the changable tensor\u001b[39;00m\n\u001b[0;32m----> 2\u001b[0m \u001b[43mchangable_tensor\u001b[49m\u001b[43m[\u001b[49m\u001b[38;5;241;43m0\u001b[39;49m\u001b[43m]\u001b[49m \u001b[38;5;241m=\u001b[39m \u001b[38;5;241m20\u001b[39m\n\u001b[1;32m      3\u001b[0m changable_tensor\n",
      "\u001b[0;31mTypeError\u001b[0m: 'ResourceVariable' object does not support item assignment"
     ]
    }
   ],
   "source": [
    "# Change the element of the changable tensor\n",
    "changable_tensor[0] = 20\n",
    "changable_tensor"
   ]
  },
  {
   "cell_type": "code",
   "execution_count": 9,
   "id": "29abcc76-00f9-4846-86f5-b664963f1c40",
   "metadata": {},
   "outputs": [
    {
     "data": {
      "text/plain": [
       "<tf.Variable 'Variable:0' shape=(2,) dtype=int32, numpy=array([20,  4], dtype=int32)>"
      ]
     },
     "execution_count": 9,
     "metadata": {},
     "output_type": "execute_result"
    }
   ],
   "source": [
    "# The assignmenrt operator is not overloaded for the assignment operation in the tf.Variable method\n",
    "# We need to use the .assign() method for it\n",
    "changable_tensor[0].assign(20)\n",
    "changable_tensor"
   ]
  },
  {
   "cell_type": "code",
   "execution_count": 12,
   "id": "f12e8115-07b7-4158-bd3b-9401e78dddde",
   "metadata": {},
   "outputs": [
    {
     "data": {
      "text/plain": [
       "<tf.Variable 'Variable:0' shape=(2,) dtype=int32, numpy=array([2, 2], dtype=int32)>"
      ]
     },
     "execution_count": 12,
     "metadata": {},
     "output_type": "execute_result"
    }
   ],
   "source": [
    "changable_tensor.assign([2,2])\n",
    "changable_tensor"
   ]
  },
  {
   "cell_type": "code",
   "execution_count": 17,
   "id": "ad14f2ee-4a65-4a69-aff6-95c5af1ec1e5",
   "metadata": {},
   "outputs": [
    {
     "name": "stderr",
     "output_type": "stream",
     "text": [
      "2024-08-08 17:23:38.103423: W tensorflow/core/framework/op_kernel.cc:1839] OP_REQUIRES failed at strided_slice_op.cc:117 : INVALID_ARGUMENT: slice index 2 of dimension 0 out of bounds.\n",
      "2024-08-08 17:23:38.103446: W tensorflow/core/framework/local_rendezvous.cc:404] Local rendezvous is aborting with status: INVALID_ARGUMENT: slice index 2 of dimension 0 out of bounds.\n"
     ]
    },
    {
     "ename": "InvalidArgumentError",
     "evalue": "{{function_node __wrapped__StridedSlice_device_/job:localhost/replica:0/task:0/device:GPU:0}} slice index 2 of dimension 0 out of bounds. [Op:StridedSlice] name: strided_slice/",
     "output_type": "error",
     "traceback": [
      "\u001b[0;31m---------------------------------------------------------------------------\u001b[0m",
      "\u001b[0;31mInvalidArgumentError\u001b[0m                      Traceback (most recent call last)",
      "Cell \u001b[0;32mIn[17], line 2\u001b[0m\n\u001b[1;32m      1\u001b[0m \u001b[38;5;66;03m# Cannot assign an element out of the index\u001b[39;00m\n\u001b[0;32m----> 2\u001b[0m \u001b[43mchangable_tensor\u001b[49m\u001b[43m[\u001b[49m\u001b[38;5;241;43m2\u001b[39;49m\u001b[43m]\u001b[49m\u001b[38;5;241m.\u001b[39massign(\u001b[38;5;241m30\u001b[39m)\n\u001b[1;32m      3\u001b[0m changable_tensor\n",
      "File \u001b[0;32m~/anaconda3/envs/TensorFlow-Development/lib/python3.10/site-packages/tensorflow/python/ops/tensor_getitem_override.py:311\u001b[0m, in \u001b[0;36m_slice_helper_var\u001b[0;34m(var, slice_spec)\u001b[0m\n\u001b[1;32m    270\u001b[0m \u001b[38;5;28;01mdef\u001b[39;00m \u001b[38;5;21m_slice_helper_var\u001b[39m(var, slice_spec):\n\u001b[1;32m    271\u001b[0m \u001b[38;5;250m  \u001b[39m\u001b[38;5;124;03m\"\"\"Creates a slice helper object given a variable.\u001b[39;00m\n\u001b[1;32m    272\u001b[0m \n\u001b[1;32m    273\u001b[0m \u001b[38;5;124;03m  This allows creating a sub-tensor from part of the current contents\u001b[39;00m\n\u001b[0;32m   (...)\u001b[0m\n\u001b[1;32m    308\u001b[0m \n\u001b[1;32m    309\u001b[0m \u001b[38;5;124;03m  \"\"\"\u001b[39;00m\n\u001b[0;32m--> 311\u001b[0m   \u001b[38;5;28;01mreturn\u001b[39;00m \u001b[43m_slice_helper\u001b[49m\u001b[43m(\u001b[49m\u001b[43mvar\u001b[49m\u001b[38;5;241;43m.\u001b[39;49m\u001b[43mvalue\u001b[49m\u001b[43m(\u001b[49m\u001b[43m)\u001b[49m\u001b[43m,\u001b[49m\u001b[43m \u001b[49m\u001b[43mslice_spec\u001b[49m\u001b[43m,\u001b[49m\u001b[43m \u001b[49m\u001b[43mvar\u001b[49m\u001b[43m)\u001b[49m\n",
      "File \u001b[0;32m~/anaconda3/envs/TensorFlow-Development/lib/python3.10/site-packages/tensorflow/python/util/traceback_utils.py:153\u001b[0m, in \u001b[0;36mfilter_traceback.<locals>.error_handler\u001b[0;34m(*args, **kwargs)\u001b[0m\n\u001b[1;32m    151\u001b[0m \u001b[38;5;28;01mexcept\u001b[39;00m \u001b[38;5;167;01mException\u001b[39;00m \u001b[38;5;28;01mas\u001b[39;00m e:\n\u001b[1;32m    152\u001b[0m   filtered_tb \u001b[38;5;241m=\u001b[39m _process_traceback_frames(e\u001b[38;5;241m.\u001b[39m__traceback__)\n\u001b[0;32m--> 153\u001b[0m   \u001b[38;5;28;01mraise\u001b[39;00m e\u001b[38;5;241m.\u001b[39mwith_traceback(filtered_tb) \u001b[38;5;28;01mfrom\u001b[39;00m \u001b[38;5;28;01mNone\u001b[39;00m\n\u001b[1;32m    154\u001b[0m \u001b[38;5;28;01mfinally\u001b[39;00m:\n\u001b[1;32m    155\u001b[0m   \u001b[38;5;28;01mdel\u001b[39;00m filtered_tb\n",
      "File \u001b[0;32m~/anaconda3/envs/TensorFlow-Development/lib/python3.10/site-packages/tensorflow/python/framework/ops.py:5983\u001b[0m, in \u001b[0;36mraise_from_not_ok_status\u001b[0;34m(e, name)\u001b[0m\n\u001b[1;32m   5981\u001b[0m \u001b[38;5;28;01mdef\u001b[39;00m \u001b[38;5;21mraise_from_not_ok_status\u001b[39m(e, name) \u001b[38;5;241m-\u001b[39m\u001b[38;5;241m>\u001b[39m NoReturn:\n\u001b[1;32m   5982\u001b[0m   e\u001b[38;5;241m.\u001b[39mmessage \u001b[38;5;241m+\u001b[39m\u001b[38;5;241m=\u001b[39m (\u001b[38;5;124m\"\u001b[39m\u001b[38;5;124m name: \u001b[39m\u001b[38;5;124m\"\u001b[39m \u001b[38;5;241m+\u001b[39m \u001b[38;5;28mstr\u001b[39m(name \u001b[38;5;28;01mif\u001b[39;00m name \u001b[38;5;129;01mis\u001b[39;00m \u001b[38;5;129;01mnot\u001b[39;00m \u001b[38;5;28;01mNone\u001b[39;00m \u001b[38;5;28;01melse\u001b[39;00m \u001b[38;5;124m\"\u001b[39m\u001b[38;5;124m\"\u001b[39m))\n\u001b[0;32m-> 5983\u001b[0m   \u001b[38;5;28;01mraise\u001b[39;00m core\u001b[38;5;241m.\u001b[39m_status_to_exception(e) \u001b[38;5;28;01mfrom\u001b[39;00m \u001b[38;5;28;01mNone\u001b[39;00m\n",
      "\u001b[0;31mInvalidArgumentError\u001b[0m: {{function_node __wrapped__StridedSlice_device_/job:localhost/replica:0/task:0/device:GPU:0}} slice index 2 of dimension 0 out of bounds. [Op:StridedSlice] name: strided_slice/"
     ]
    }
   ],
   "source": [
    "# Cannot assign an element out of the index\n",
    "changable_tensor[2].assign(30)\n",
    "changable_tensor"
   ]
  },
  {
   "cell_type": "code",
   "execution_count": 67,
   "id": "aa4ee256-220e-44fd-a74a-39c6849cda5a",
   "metadata": {},
   "outputs": [
    {
     "data": {
      "text/plain": [
       "<tensorflow.python.ops.stateful_random_ops.Generator at 0x7502e766d240>"
      ]
     },
     "execution_count": 67,
     "metadata": {},
     "output_type": "execute_result"
    }
   ],
   "source": [
    "# Creating Random tensors\n",
    "generator = tf.random.Generator.from_seed(42)\n",
    "generator      # set the seed for reproducibility"
   ]
  },
  {
   "cell_type": "code",
   "execution_count": 68,
   "id": "dec4fb7e-e9fb-4bb3-8f3b-13779f5e10b6",
   "metadata": {},
   "outputs": [
    {
     "data": {
      "text/plain": [
       "<tf.Tensor: shape=(3, 2), dtype=float32, numpy=\n",
       "array([[-0.7565803 , -0.06854702],\n",
       "       [ 0.07595026, -1.2573844 ],\n",
       "       [-0.23193765, -1.8107855 ]], dtype=float32)>"
      ]
     },
     "execution_count": 68,
     "metadata": {},
     "output_type": "execute_result"
    }
   ],
   "source": [
    "r1 = generator.normal(shape=(3,2))\n",
    "r1     # outputs the values from normal distribution"
   ]
  },
  {
   "cell_type": "code",
   "execution_count": 77,
   "id": "d765707c-87b4-4b1d-b5a3-8ed570dbcfca",
   "metadata": {},
   "outputs": [
    {
     "data": {
      "text/plain": [
       "<tf.Tensor: shape=(2, 3), dtype=float32, numpy=\n",
       "array([[7.4349947, 6.12593  , 4.978739 ],\n",
       "       [6.9099865, 9.944253 , 9.1576605]], dtype=float32)>"
      ]
     },
     "execution_count": 77,
     "metadata": {},
     "output_type": "execute_result"
    }
   ],
   "source": [
    "r2 = generator.uniform(shape=[2,3], minval=2, maxval=10)\n",
    "r2    # output values from a uniform distribution"
   ]
  },
  {
   "cell_type": "code",
   "execution_count": 81,
   "id": "90fb04bc-b422-47e7-802a-b772f5c71a26",
   "metadata": {},
   "outputs": [
    {
     "data": {
      "text/plain": [
       "(<tf.Tensor: shape=(3, 3), dtype=float32, numpy=\n",
       " array([[-0.29604468, -0.21134208,  0.01063002],\n",
       "        [ 1.5165398 ,  0.2730574 , -0.29925638],\n",
       "        [-0.3652325 ,  0.61883307, -1.0130817 ]], dtype=float32)>,\n",
       " <tf.Tensor: shape=(3, 3), dtype=float32, numpy=\n",
       " array([[-0.29604468, -0.21134208,  0.01063002],\n",
       "        [ 1.5165398 ,  0.2730574 , -0.29925638],\n",
       "        [-0.3652325 ,  0.61883307, -1.0130817 ]], dtype=float32)>,\n",
       " <tf.Tensor: shape=(3, 3), dtype=bool, numpy=\n",
       " array([[ True,  True,  True],\n",
       "        [ True,  True,  True],\n",
       "        [ True,  True,  True]])>)"
      ]
     },
     "execution_count": 81,
     "metadata": {},
     "output_type": "execute_result"
    }
   ],
   "source": [
    "# Checking the reproducibility of the generators\n",
    "g1 = tf.random.Generator.from_seed(10)\n",
    "g2 = tf.random.Generator.from_seed(10)\n",
    "rand1 = g1.normal( shape=(3,3) )\n",
    "rand2 = g2.normal( shape=(3,3) )\n",
    "\n",
    "rand1, rand2, rand1==rand2"
   ]
  },
  {
   "cell_type": "code",
   "execution_count": 83,
   "id": "797da350-86e9-4ca3-bac5-201c1f33674e",
   "metadata": {},
   "outputs": [
    {
     "data": {
      "text/plain": [
       "<tf.Tensor: shape=(99,), dtype=int32, numpy=\n",
       "array([ 1,  2,  3,  4,  5,  6,  7,  8,  9, 10, 11, 12, 13, 14, 15, 16, 17,\n",
       "       18, 19, 20, 21, 22, 23, 24, 25, 26, 27, 28, 29, 30, 31, 32, 33, 34,\n",
       "       35, 36, 37, 38, 39, 40, 41, 42, 43, 44, 45, 46, 47, 48, 49, 50, 51,\n",
       "       52, 53, 54, 55, 56, 57, 58, 59, 60, 61, 62, 63, 64, 65, 66, 67, 68,\n",
       "       69, 70, 71, 72, 73, 74, 75, 76, 77, 78, 79, 80, 81, 82, 83, 84, 85,\n",
       "       86, 87, 88, 89, 90, 91, 92, 93, 94, 95, 96, 97, 98, 99],\n",
       "      dtype=int32)>"
      ]
     },
     "execution_count": 83,
     "metadata": {},
     "output_type": "execute_result"
    }
   ],
   "source": [
    "# Shuffle the order of the elements in the tensor\n",
    "not_shuffle = tf.range(1, 100)\n",
    "not_shuffle"
   ]
  },
  {
   "cell_type": "code",
   "execution_count": 84,
   "id": "25a72d1a-c9d8-417f-a987-5c7184b8d928",
   "metadata": {},
   "outputs": [
    {
     "data": {
      "text/plain": [
       "<tf.Tensor: shape=(99,), dtype=int32, numpy=\n",
       "array([88, 82, 62, 49, 34, 25, 89, 66, 68, 87, 74, 55, 30, 43,  2, 67, 16,\n",
       "       70, 50, 96, 57, 13, 81, 76, 40,  3, 84, 92, 32, 26, 61, 45, 37, 98,\n",
       "       93, 52,  4, 47, 83, 71, 63,  7, 21, 77, 64, 31, 69, 65, 20, 42, 85,\n",
       "       38, 94, 41, 35, 51, 18, 58, 56, 95, 59,  6, 33, 60, 80, 19, 23, 99,\n",
       "       10, 44,  9, 15, 53, 22, 39, 90, 11, 27, 14,  5, 48, 79, 29,  8, 75,\n",
       "       86, 91, 12, 36, 46,  1, 97, 17, 28, 78, 72, 54, 24, 73],\n",
       "      dtype=int32)>"
      ]
     },
     "execution_count": 84,
     "metadata": {},
     "output_type": "execute_result"
    }
   ],
   "source": [
    "shuffle = tf.random.shuffle(not_shuffle)\n",
    "shuffle"
   ]
  },
  {
   "cell_type": "code",
   "execution_count": 85,
   "id": "64a4d1db-044c-4ae4-b0d1-81500d417710",
   "metadata": {},
   "outputs": [
    {
     "data": {
      "text/plain": [
       "<tf.Tensor: shape=(3, 2), dtype=int32, numpy=\n",
       "array([[1, 2],\n",
       "       [3, 4],\n",
       "       [5, 6]], dtype=int32)>"
      ]
     },
     "execution_count": 85,
     "metadata": {},
     "output_type": "execute_result"
    }
   ],
   "source": [
    "# In the 2-D tensor the order of each individual element changes\n",
    "# But the order within the inner tensor remains the same\n",
    "ten_ns = tf.constant([[1,2],[3,4],[5,6]])\n",
    "ten_ns"
   ]
  },
  {
   "cell_type": "code",
   "execution_count": 86,
   "id": "c3b5ebb2-cfcb-4b74-8f83-611f87da25ea",
   "metadata": {},
   "outputs": [
    {
     "data": {
      "text/plain": [
       "<tf.Tensor: shape=(3, 2), dtype=int32, numpy=\n",
       "array([[5, 6],\n",
       "       [1, 2],\n",
       "       [3, 4]], dtype=int32)>"
      ]
     },
     "execution_count": 86,
     "metadata": {},
     "output_type": "execute_result"
    }
   ],
   "source": [
    "ten_s = tf.random.shuffle(ten_ns)\n",
    "ten_s"
   ]
  },
  {
   "cell_type": "code",
   "execution_count": null,
   "id": "7c97f96f-0744-4535-b2df-b38d26005b60",
   "metadata": {},
   "outputs": [],
   "source": []
  }
 ],
 "metadata": {
  "kernelspec": {
   "display_name": "Python 3 (ipykernel)",
   "language": "python",
   "name": "python3"
  },
  "language_info": {
   "codemirror_mode": {
    "name": "ipython",
    "version": 3
   },
   "file_extension": ".py",
   "mimetype": "text/x-python",
   "name": "python",
   "nbconvert_exporter": "python",
   "pygments_lexer": "ipython3",
   "version": "3.10.14"
  }
 },
 "nbformat": 4,
 "nbformat_minor": 5
}
